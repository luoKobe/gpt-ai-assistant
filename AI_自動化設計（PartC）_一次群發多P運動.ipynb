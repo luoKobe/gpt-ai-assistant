{
  "nbformat": 4,
  "nbformat_minor": 0,
  "metadata": {
    "colab": {
      "provenance": [],
      "include_colab_link": true
    },
    "kernelspec": {
      "name": "python3",
      "display_name": "Python 3"
    },
    "language_info": {
      "name": "python"
    }
  },
  "cells": [
    {
      "cell_type": "markdown",
      "metadata": {
        "id": "view-in-github",
        "colab_type": "text"
      },
      "source": [
        "<a href=\"https://colab.research.google.com/github/luoKobe/gpt-ai-assistant/blob/main/AI_%E8%87%AA%E5%8B%95%E5%8C%96%E8%A8%AD%E8%A8%88%EF%BC%88PartC%EF%BC%89_%E4%B8%80%E6%AC%A1%E7%BE%A4%E7%99%BC%E5%A4%9AP%E9%81%8B%E5%8B%95.ipynb\" target=\"_parent\"><img src=\"https://colab.research.google.com/assets/colab-badge.svg\" alt=\"Open In Colab\"/></a>"
      ]
    },
    {
      "cell_type": "markdown",
      "source": [
        "#AI 自動化設計（PartC）\n"
      ],
      "metadata": {
        "id": "TevSx0nS73HK"
      }
    },
    {
      "cell_type": "markdown",
      "source": [
        "##產出第一個GAS程式\n",
        "```\n",
        "// 定義一個名為helloWorld的函數\n",
        "function helloWorld() {\n",
        "  // 使用Logger物件的log方法來輸出文字\n",
        "  // Logger是GAS提供的一個工具，用於記錄和顯示訊息\n",
        "  Logger.log(\"Hello World\"); // 在日誌中輸出\"Hello World\"\n",
        "}\n",
        "```\n",
        "\n"
      ],
      "metadata": {
        "id": "Ctax3nL377sv"
      }
    },
    {
      "cell_type": "markdown",
      "source": [
        "##與Google試算表的連結"
      ],
      "metadata": {
        "id": "lw_8z1sqayrp"
      }
    },
    {
      "cell_type": "markdown",
      "source": [
        "```\n",
        "// 定義函數 readData，無參數\n",
        "function readData() {\n",
        "    // 獲取當前活動的試算表並選取當前活動的工作表\n",
        "    var sheet = SpreadsheetApp.getActiveSpreadsheet().getActiveSheet();\n",
        "    \n",
        "    // 獲取工作表中所有數據範圍的值，並將其存儲在變量 data 中\n",
        "    var data = sheet.getDataRange().getValues();\n",
        "    \n",
        "    // 將數據範圍中的所有值記錄到日誌中，方便調試\n",
        "    Logger.log(data);\n",
        "}\n",
        "\n",
        "```"
      ],
      "metadata": {
        "id": "OBfuGoE3a4-9"
      }
    },
    {
      "cell_type": "markdown",
      "source": [
        "##將結果寫入試算表中\n",
        "```\n",
        "// 定義一個名為helloWorld的函數\n",
        "function helloWorld() {\n",
        "  // 使用Logger物件的log方法來輸出文字\n",
        "  // Logger是GAS提供的一個工具，用於記錄和顯示訊息\n",
        "  Logger.log(\"Hello World\"); // 在日誌中輸出\"Hello World\"\n",
        "\n",
        "  // 指定 Google 試算表的 ID，此 ID 可在試算表的網址中找到\n",
        "  var spreadsheetId = '您的Google試算表ID'; // 替換成您的試算表ID\n",
        "\n",
        "  // 打開指定的 Google 試算表\n",
        "  var spreadsheet = SpreadsheetApp.openById(spreadsheetId); // 通過ID打開試算表\n",
        "\n",
        "  // 獲取試算表中的 \"工作表1\"\n",
        "  var sheet = spreadsheet.getSheetByName('工作表1'); // 獲取名為\"工作表1\"的工作表\n",
        "\n",
        "  // 將 \"Hello World\" 寫入 \"工作表1\" 的 A1 儲存格\n",
        "  sheet.getRange('A1').setValue('Hello World'); // 在A1儲存格中設置值\"Hello World\"\n",
        "}\n",
        "```"
      ],
      "metadata": {
        "id": "Z_BIKn4B84MG"
      }
    },
    {
      "cell_type": "markdown",
      "source": [
        "##時間驅動觸發器\n",
        "###設置每日觸發器"
      ],
      "metadata": {
        "id": "vC3VziyEfK0X"
      }
    },
    {
      "cell_type": "markdown",
      "source": [
        "```\n",
        "function createTimeDrivenTriggers() {\n",
        "    // 刪除所有現有的觸發器，以避免重複設置\n",
        "    deleteTriggers();\n",
        "\n",
        "    // 創建一個觸發器，設置為每天凌晨1點執行 myFunction\n",
        "    ScriptApp.newTrigger('myFunction')\n",
        "        .timeBased()\n",
        "        .atHour(1)\n",
        "        .everyDays(1)\n",
        "        .create();\n",
        "}\n",
        "\n",
        "function deleteTriggers() {\n",
        "    // 獲取所有已設置的觸發器\n",
        "    var allTriggers = ScriptApp.getProjectTriggers();\n",
        "\n",
        "    // 刪除每個觸發器\n",
        "    for (var i = 0; i < allTriggers.length; i++) {\n",
        "        ScriptApp.deleteTrigger(allTriggers[i]);\n",
        "    }\n",
        "}\n",
        "\n",
        "// 要執行的函數\n",
        "function myFunction() {\n",
        "    Logger.log(\"這是每日執行的任務\");\n",
        "}\n",
        "\n",
        "```"
      ],
      "metadata": {
        "id": "EfRxJtkLfQ0Z"
      }
    },
    {
      "cell_type": "markdown",
      "source": [
        "###事件驅動觸發器\n",
        "####設置編輯觸發器"
      ],
      "metadata": {
        "id": "el3-kiLOfvXU"
      }
    },
    {
      "cell_type": "markdown",
      "source": [
        "```\n",
        "function createEditTrigger() {\n",
        "    // 刪除所有現有的觸發器，以避免重複設置\n",
        "    deleteTriggers();\n",
        "\n",
        "    // 創建一個觸發器，當用戶編輯試算表時執行 onEdit\n",
        "    ScriptApp.newTrigger('onEdit')\n",
        "        .forSpreadsheet(SpreadsheetApp.getActiveSpreadsheet())\n",
        "        .onEdit()\n",
        "        .create();\n",
        "}\n",
        "\n",
        "function deleteTriggers() {\n",
        "    // 獲取所有已設置的觸發器\n",
        "    var allTriggers = ScriptApp.getProjectTriggers();\n",
        "\n",
        "    // 刪除每個觸發器\n",
        "    for (var i = 0; i < allTriggers.length; i++) {\n",
        "        ScriptApp.deleteTrigger(allTriggers[i]);\n",
        "    }\n",
        "}\n",
        "\n",
        "// 當試算表被編輯時要執行的函數\n",
        "function onEdit(e) {\n",
        "    var range = e.range;\n",
        "    var value = range.getValue();\n",
        "    Logger.log(\"編輯了單元格 \" + range.getA1Notation() + \" 新值為: \" + value);\n",
        "}\n",
        "\n",
        "\n",
        "```\n"
      ],
      "metadata": {
        "id": "-4Lbe6MKfxnH"
      }
    },
    {
      "cell_type": "markdown",
      "source": [
        "###部署為Web應用程式\n",
        "####步驟1：編寫腳本\n",
        "~~~\n",
        "// 這個函數處理GET請求，返回一個HTML頁面\n",
        "function doGet() {\n",
        "    return HtmlService.createHtmlOutput(\"<h1>嗨,大家一起學習GAS樂開懷!</h1>\");\n",
        "}\n",
        "\n",
        "// 這個函數處理POST請求\n",
        "function doPost(e) {\n",
        "    var data = e.parameter.data;\n",
        "    return ContentService.createTextOutput(\"You posted: \" + data);\n",
        "}\n",
        "\n",
        "~~~"
      ],
      "metadata": {
        "id": "PMKD1Nshk3wD"
      }
    },
    {
      "cell_type": "markdown",
      "source": [
        "##每天來張早安圖\n",
        "```\n",
        "var images = [\n",
        "  'https://drive.google.com/uc?export=view&id=1N59hZgy7K59xSfNIKVkpg2PRMMmEzw3u',\n",
        "  'https://drive.google.com/uc?export=view&id=1kIHVIonMAON26a2cXnimGTSpowrm-lJ0',\n",
        "  'https://drive.google.com/uc?export=view&id=1tdAC_eLxMux1oOYQ8bHJbowIzraGqlGv',\n",
        "  'https://drive.google.com/uc?export=view&id=1P4MH3YAc5wB2q-Ff2X1BO5_410plmohE',\n",
        "  'https://drive.google.com/uc?export=view&id=1zJFx1pqiDOS1VrP2zKHvOFVVmWPdc4HW',\n",
        "  'https://drive.google.com/uc?export=view&id=1H67NxMMvDCjEbptHVQjERgr6hLEbBfLB'\n",
        "]; // 圖片的網址列表\n",
        "var phrases = [\n",
        "  '今日是新的開始，讓我們充滿希望地迎接它！',\n",
        "  '每一天都是一次新的機會，不要放棄！',\n",
        "  '保持積極，你會驚喜地發現生活的美好！',\n",
        "  '笑容是最好的良藥，讓它照亮你的一天！',\n",
        "  '相信自己，你比你想象的還要強大！',\n",
        "  '擁抱挑戰，享受生活的每一刻！'\n",
        "]; // 每日話語列表\n",
        "// 定義主要函數，用於發送通知\n",
        "function sendDailyMessage() {\n",
        "  var image = getRandomItem(images); // 從圖片列表中隨機選擇一個\n",
        "  var phrase = getRandomItem(phrases); // 從話語列表中隨機選擇一個\n",
        "\n",
        "  sendToLineNotify(phrase); // 首先發送文字消息\n",
        "  Utilities.sleep(1000); // 等待一秒鐘\n",
        "  sendToLineNotify(image); // 然後發送圖片消息\n",
        "}\n",
        "\n",
        "// 隨機選擇列表中的一個項目的函數\n",
        "function getRandomItem(list) {\n",
        "  return list[Math.floor(Math.random() * list.length)]; // 隨機選擇一個項目\n",
        "}\n",
        "\n",
        "// 將消息發送到 Line Notify 的函數\n",
        "function sendToLineNotify(message) {\n",
        "  var token = '您的 LINE Notify 權杖'; // 替換成您的 LINE Notify 權杖\n",
        "  var options = {\n",
        "    'method': 'post',\n",
        "    'headers': {\n",
        "      'Authorization': 'Bearer ' + token\n",
        "    },\n",
        "    'payload': {\n",
        "      'message': message\n",
        "    }\n",
        "  };\n",
        "\n",
        "  UrlFetchApp.fetch('https://notify-api.line.me/api/notify', options); // 發送請求到 LINE Notify\n",
        "}\n",
        "\n",
        "```"
      ],
      "metadata": {
        "id": "Zlg9asV1G5L1"
      }
    },
    {
      "cell_type": "markdown",
      "source": [
        "###進化版早安圖與心靈雞湯\n",
        "```\n",
        "function sendLineNotifyMessage() {\n",
        "  var token = \"你的LINE權杖\"; // 你的LINE權杖\n",
        "  var folderName = \"lineimages\"; // 放置圖片的資料夾名稱\n",
        "  var folders = DriveApp.getFoldersByName(folderName);\n",
        "\n",
        "  if (!folders.hasNext()) {\n",
        "    Logger.log('無法找到名為 ' + folderName + ' 的資料夾');\n",
        "    return;\n",
        "  }\n",
        "\n",
        "  var folder = folders.next();\n",
        "  var files = folder.getFiles();\n",
        "  var fileArray = [];\n",
        "\n",
        "  while (files.hasNext()) {\n",
        "    var file = files.next();\n",
        "    if (file.getMimeType() === 'image/jpeg') {\n",
        "      fileArray.push(file.getId());\n",
        "      Logger.log('找到JPG圖片：' + file.getName() + '，ID：' + file.getId());\n",
        "    }\n",
        "  }\n",
        "\n",
        "  if (fileArray.length === 0) {\n",
        "    Logger.log('資料夾中沒有JPG圖片');\n",
        "    return;\n",
        "  }\n",
        "\n",
        "  // 隨機選擇JPG圖片\n",
        "  var randomIndex = Math.floor(Math.random() * fileArray.length);\n",
        "  var imageFileId = fileArray[randomIndex];\n",
        "  Logger.log('選擇的圖片ID：' + imageFileId);\n",
        "\n",
        "  try {\n",
        "    var imageFile = DriveApp.getFileById(imageFileId).getBlob();\n",
        "  } catch (e) {\n",
        "    Logger.log('無法獲取ID為 ' + imageFileId + ' 的文件：' + e.message);\n",
        "    return;\n",
        "  }\n",
        "\n",
        "  // 心靈雞湯語句\n",
        "  var messages = [\n",
        "\n",
        "    // 20則心靈雞湯語句...\n",
        "  ];\n",
        "\n",
        "  var message = messages[Math.floor(Math.random() * messages.length)];\n",
        "\n",
        " // var messageOptions = {\n",
        " //   \"method\": \"POST\",\n",
        " //   \"headers\": {\"Authorization\": \"Bearer \" + token},\n",
        " //   \"payload\": {'message': message}\n",
        " // };\n",
        "// UrlFetchApp.fetch(\"https://notify-api.line.me/api/notify\", messageOptions);\n",
        "\n",
        "//  Utilities.sleep(5000);\n",
        "\n",
        "var imageOptions = {\n",
        "  \"method\": \"POST\",\n",
        "  \"headers\": {\"Authorization\": \"Bearer \" + token},\n",
        "  \"payload\": {\n",
        "    'message': message, // 這裡將 'message' 改為變數 message，這樣才會發送變數中的文字\n",
        "    'imageFile': imageFile    \n",
        "    }\n",
        "};\n",
        "UrlFetchApp.fetch(\"https://notify-api.line.me/api/notify\", imageOptions);\n",
        "  };\n",
        "  UrlFetchApp.fetch(\"https://notify-api.line.me/api/notify\", imageOptions);\n",
        "}\n",
        "\n",
        "```\n"
      ],
      "metadata": {
        "id": "cvgNE93tunDD"
      }
    },
    {
      "cell_type": "code",
      "source": [],
      "metadata": {
        "id": "wCitlFkaurda"
      },
      "execution_count": null,
      "outputs": []
    },
    {
      "cell_type": "markdown",
      "source": [
        "心靈雞湯文字\n",
        "```\n",
        "var messages = [\n",
        "      '人生就像一本書，每一天都是新的一頁，充滿了可能性和機遇，讓我們積極地去填滿它。',\n",
        "      '每個夢想都值得追求，即使前路充滿挑戰，勇敢地邁出一步，終將接近你的目標。',\n",
        "      '當你感到失落時，記得轉身看看來時的路，你已經走得那麼遠，不要輕易放棄。',\n",
        "      '生活不是等待暴風雨過去，而是要學會在雨中跳舞，把每個瞬間都活得精彩絕倫。',\n",
        "      '面對困難時，不要害怕，勇氣就像肌肉一樣，越用越強，越戰越勇。',\n",
        "      '人生沒有白走的路，每一步都算數，每一次努力都會有回報，只要你不放棄。',\n",
        "      '過去無法改變，但未來還在你手中，每一天都是一個全新的開始。',\n",
        "      '失敗不是終點，它只是告訴我們要換一個角度去看問題，繼續向前。',\n",
        "      '真正的勇氣不是不害怕，而是即使害怕也願意面對挑戰，勇往直前。',\n",
        "      '每個成功的背後，都有無數次的努力和汗水，不要怕付出，因為這些都是通往夢想的必經之路。',\n",
        "      '不要讓恐懼阻擋你前進的步伐，勇敢地追求你的夢想，最終會收獲成功。',\n",
        "      '總有一天，你會感謝現在努力的自己，因為你所付出的一切，將成就未來的你。',\n",
        "      '每一個不願意放棄的日子，都會成為成功的基石，堅持下去，終會有所成就。',\n",
        "      '記住，你比你想象中要強大，面對挑戰時，相信自己，你有無限的潛力。',\n",
        "      '你的態度決定你的高度，樂觀積極地面對生活，你會發現世界如此美好。',\n",
        "      '成功的路上不會永遠順風順水，但只要你不停歇，總會到達目的地。',\n",
        "      '別急於求成，每一個階段都有它的意義，慢慢來，會走得更遠。',\n",
        "      '人生就像爬山，不在乎達到的高度，而在乎沿途的風景和看風景的心情。',\n",
        "      '記住，最困難的時候，往往就是離成功不遠的時候，堅持就是勝利。',\n",
        "      '生命太短暫，不要浪費時間在懷疑自己上，相信自己，你值得最好的。',\n",
        "    ];\n",
        "```\n"
      ],
      "metadata": {
        "id": "UoBZnpP75jNx"
      }
    },
    {
      "cell_type": "markdown",
      "source": [
        "#一次群發多P運動"
      ],
      "metadata": {
        "id": "Oxk1ajTViUPl"
      }
    },
    {
      "cell_type": "markdown",
      "source": [
        "```\n",
        "const API_URL = \"https://notify-api.line.me/api/notify\";\n",
        "\n",
        "function sendMessagesAndImages() {\n",
        "  var sheet = SpreadsheetApp.getActiveSpreadsheet().getActiveSheet();\n",
        "  var data = sheet.getRange('B1:B' + sheet.getLastRow()).getValues();\n",
        "  var message = data[0][0]; // 從B1單元格獲取訊息內容\n",
        "  var imageUrl = data[1][0]; // 從B2單元格獲取圖片URL\n",
        "\n",
        "  for (var i = 2; i < data.length; i++) {\n",
        "    var token = data[i][0]; // 獲取B列中的Token\n",
        "    if (token) {\n",
        "      sendLineNotify(token, message, imageUrl);\n",
        "      Utilities.sleep(10000); // 發送訊息和圖片後總共等待10秒\n",
        "    }\n",
        "  }\n",
        "}\n",
        "\n",
        "function sendLineNotify(token, message, imageUrl) {\n",
        "  sendNotifyMessage(token, message); // 發送訊息\n",
        "  Utilities.sleep(5000); // 訊息發送後等待5秒\n",
        "\n",
        "  if (imageUrl) {\n",
        "    sendNotifyImage(token, imageUrl); // 發送圖片\n",
        "  }\n",
        "}\n",
        "\n",
        "function sendNotifyMessage(token, message) {\n",
        "  var options = {\n",
        "    \"method\": \"POST\",\n",
        "    \"headers\": {\"Authorization\": \"Bearer \" + token},\n",
        "    \"payload\": {\n",
        "      'message': message\n",
        "    }\n",
        "  };\n",
        "\n",
        "  try {\n",
        "    UrlFetchApp.fetch(API_URL, options);\n",
        "  } catch (e) {\n",
        "    Logger.log(\"發送訊息時出錯: \" + e.message);\n",
        "  }\n",
        "}\n",
        "\n",
        "function sendNotifyImage(token, imageUrl) {\n",
        "  var options = {\n",
        "    \"method\": \"POST\",\n",
        "    \"headers\": {\"Authorization\": \"Bearer \" + token},\n",
        "    \"payload\": {\n",
        "      'message': '\\uDBC0\\uDC84', // 空白字符，用於僅發送圖片\n",
        "      'imageThumbnail': imageUrl,\n",
        "      'imageFullsize': imageUrl\n",
        "    }\n",
        "  };\n",
        "\n",
        "  try {\n",
        "    UrlFetchApp.fetch(API_URL, options);\n",
        "  } catch (e) {\n",
        "    Logger.log(\"發送圖片時出錯: \" + e.message);\n",
        "  }\n",
        "}\n",
        "\n",
        "```"
      ],
      "metadata": {
        "id": "b03BFV6CiYRi"
      }
    },
    {
      "cell_type": "markdown",
      "source": [
        "###Mermaid語法![1.jpg](data:image/jpeg;base64,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![1.jpg](data:image/jpeg;base64,/9j/4AAQSkZJRgABAQAAAQABAAD//gAXR2VuZXJhdGVkIGJ5IFNuaXBhc3Rl/9sAQwAKBwcIBwYKCAgICwoKCw4YEA4NDQ4dFRYRGCMfJSQiHyIhJis3LyYpNCkhIjBBMTQ5Oz4+PiUuRElDPEg3PT47/8AACwgBYQbSAQERAP/EANIAAAEFAQEBAQEBAAAAAAAAAAABAgMEBQYHCAkKCxAAAgEDAwIEAwUFBAQAAAF9AQIDAAQRBRIhMUEGE1FhByJxFDKBkaEII0KxwRVS0fAkM2JyggkKFhcYGRolJicoKSo0NTY3ODk6Q0RFRkdISUpTVFVWV1hZWmNkZWZnaGlqc3R1dnd4eXqDhIWGh4iJipKTlJWWl5iZmqKjpKWmp6ipqrKztLW2t7i5usLDxMXGx8jJytLT1NXW19jZ2uHi4+Tl5ufo6erx8vP09fb3+Pn6/9oACAEBAAA/APZqKKKKKKKKKKKKKKKKKKKKKKKKKKKKKKKKKKKKKKKKKKKKKKKKKKKKKKKKKKKKKKKKKKKKKKKKKKKKKKKKKKKKKKKKKKKKKKKKKKKKKKKKKKKKKKKKKKKKKKKKKKKKKKKKKKKKKKKKKKKKKKKKKKKKKKKKKKKKKKKKKKKKKKKKKKKKKKKKKKKKKKKKKKKKKKKKKKKKKKKKKKKKKKKKKKKKKKKKKKKKKKKKKKKKKKKKKKKKKKKKKKKKKKKKKKKKKKKKKKKKKKKKKKKKKKKKKKKKKKKKKKKKKKKKKKKKKKKKKKKKKKKKKKKKKKKKKKKKKKKKKKKKKKKKKKKKKKKKKKKKKKKKKKKKKKKKKKKKKKKKKKKKKKKKKKKKKKKKKKKKKKKKKKKKKKKKKKKKKKKKKKKKKKKKKKKKKKKKKKKKKKKKKKKKKKKKKKKKKKKKKKKKKKKKKKKKKKKKKKKKKKKKKKKKKKKKKKKKKKKKKKKKKKKKKKKKKKKKKKKKKKKKKKKKKKKKKKKKKKKKKKKKKKKKKKKKKKKKKKKKKKKKKKKKKKKKKKKKKKKKKKKKKKKKKKKKKKKKKKKKKKKKKKKKKKKKKKKKKKKKKKKKKKKKKKKKKKKKKKKKKKKKKKKKKKKKKKKKKKKKKKKKKKKKKKKKKKKKKKKKKKKKKKKKKKKKKKKKKKKKKKKKKKKKKKKKKKKKKKKKKKKKKKKKKKKKKKKKKKKKKKKKKKKKKKKKKKKKKKKKKKKKKKKKKKKKKKKKKKKKKKKKKKKKKKKKKKKKKKKKKKKKKKKKKKKKKKKKKKKKKKKKKKKKKKKKKKKKKKKKKKKKKKKKKKKKKKKKKKKKKKKKKKKKKKKKKKKKKKKKKKKKKKKKKKKKKKKKKKKKKKKKKKKKKKKKKKKKKKKKKKKKKKKKKKKKKKKKKKKKKKKKKKKKKKKKKKKKKKKKKKKKKKKKKKKKKKKKKKKKK5Ow8V67qljHfWHhUz20wJjf+0I13AHHQgHtUx17xUOngqQ/TUoab/wkXicfe8E3H4X8B/rR/wAJN4gH3vBV9+F1Cf600+K9cHXwVqP4TRH+tMPjDWh18E6p+Dof600+M9ZH/Mkat+a00+N9YH/Mkax+Qpp8dasP+ZH1r/vj/wCtTT4+1Uf8yNrn/fo/4U0/EHUx/wAyNr3/AH4b/Cm/8LD1L/oRdf8A/Adv/iaP+Fial/0Iuv8A/gO3/wATR/wsTUv+hF1//wAB2/8AiaP+Fial/wBCLr//AIDt/wDE0f8ACxNS/wChF1//AMB2/wDiaP8AhYmpf9CLr/8A4Dt/8TR/wsTUv+hF1/8A8B2/+Jo/4WJqX/Qi6/8A+A7f/E0f8LE1P/oRdf8A/Adv/iaafiJq3bwHrp+sDf8AxNJ/wsTWj08A61+Mbj/2SgfEHXT/AMyDq/4hv/iKePHuvn/mQdV/M/8AxNOHjrxAf+ZC1P8A77/+xpw8beIj/wAyHqP4zD/4mnjxl4kbp4Ev/wAbhR/Snr4s8TN08C3f43kY/pUi+JfFLdPA1x+N/CKkHiDxUf8AmSJR9dSgpJvEfiS2tpbifwi0cUSF3Y6jEcKBknAFb+nXg1HTLW+VNguYUlC5zjcoOM/jVmiiiiiiiiiiiiiiiiiiiiiiiiiiiiiiiiiiiiiiiiiiiiiiiiiiiiiiiiiiiiiiiiiiiiiiiiiiiiiiiiiiiiiiiiiiiiiiiiiiiiiiiiiiiiiiiiiiiiiiiiiiiiiiiiiiiiiiiiiiiiiiiiiiiiiiiiiiiiiiiiiiiiiiiiiiiiiiiiiiiiiiiiiiuc+HoA8B6Rj/AJ4f1NdHRRRRRRRRRRRRTBLG0rRCRTIoBZAeQD0JH4H8qfRRRSEhQSSABySe1NE0RRHEibZMbDuGGz0x60+iiiiiiiiqOtru0LUF9bWQf+Omq3hP/kTtF/7B8H/ota16KKKKKKKKKKKKKKKKKKKKKKKKKKKKKKKKKKKKKKKKKKKKKKKKKKKKKKKKKKKKKKKKKKKKKKKKKKKKKKKKKKKKKKKKKKKKKKKKKKKKKKKKKKKKKKKKKKKKKKKKKKKKKKKKKKKKKKKKKKKKKKKKKKKKKKKKKKKKKKKKKKKKKKKKKKKKKKKKKKKKKKKKKK5f4bP5nw/0lvSNh+TsP6V1FFRz/wCok/3T/KvJNe0a6sFS7TQLZtPIhZbktYQoMquQfMiLfezyxxzXSeEbeFNHuLpLaCF7mzdm8lYOQGYAFoVVWwO+KZJYrZ6e8enW506Q+U++28iGNjtGz/lm7lz82NqZJyM1dt4Zn8O6nctqN5fedZv5r3MccY8zbyAFQHjkHJIHTrnGE2jW2lreWt7qGg2E09uqiGS7t0LfOrfMBboMYB+8r9enXOxoWlvpdrq8LjT4VkhjkyI0mhKnd1WOOENkD09OT0rL8WWTPbWy3OmRyXy2iGaZbdpSBkgL80E5XHPVlznqa3fDJFj4fu2stLWG6WTYUEZiEjYBDMPKi2gA8nYOB34qOa11JLK01GC4vIWASOOG0EBeXzCGkc+apUEn3HA98Vs2FrqFxpjpPf6razM+Q9wtoZUA7Dy1KYPuCfpWGXaPUrj7Rr3iEzW7mFXt9MWVSuFPLJblTzn6VsLJdw6H9stdXnud5Eiy3enmZwp/hEUQjb8xkc1k/wBoapqptzDqdqyLcKN02hXMK5O5erygNycYFb9tpCNpP9n6pHZXsQOfLFsREBnIGx2fp25wOMAVyMGnaXd2FxDaeBVmYzuPPWC0UbC2QV3OD9w8cCuh1PUrJ9Agml1ZtBWZCY1keBWYY+784ZT2+7+dc+mo6Z/Z+mD/AIT7BUx7k8+z/dfL/wBc88dOa372Gw1ey05GuLXVoCz4nnRJ43YRt8xC4U4Ppj8KwtP03Sbm+t4nsNFZJWwM+FJoBIMZwsjttHAOOtW9Qh0t9K0a3n0SPU5QoZY1hiZkiUbjguQADgDGeRnriqmqr4ZdVLeHfLI0+YKn9kmTyzkYG5EZeDnkHAz15q7rEcE3g61WxttMtbJGQsNUDWsSYI/5ZtGQc89QOoIzxVNbaOTRLT+wLC18+2V53aCfdH94gHCR4l3EFlXCjKgjGBXZaZI8umwSSIyMyDIbfn8d6q2fqBVuiqGuNs0DUX/u2sp/8dNVfB7bvBmin/pwhH5IK2aKKKKKKKKKKKKKKKKKKKKKKKKKKKKKKKKKKKKKKKKKKKKKKKKKKKKKKKKKKKKKKKKKKKKKKKKKKKKKKKKKKKKKKKKKKKKKKKKKKKKKKKKKKKKKKKKKKKKKKKKKKKKKKKKKKKKKKKKKKKKKKKKKKKKKKKKKKKKKKKKKKKKKKKKKKKKKKKKKKKKKKKKKhluraD/XXEUeP77gfzrk/hPMsvw/skDAmGSVGAOcHezYP4MPzrsqKZKpaF1HJKkCuDXwRO+oR6m+g2K3nlqDKut3MbhgANw2R/KccEAkf12dJ0nVLSC5iu7dAWtNiyLfyXJlc5ySZFBHbjkVK+jSwWwaKKTPlAy+VJuuZGxgojuwEa/Q9zjb1Kw6TdweHrqyhhWNJ4ZTHbkjdEzEkLkHbjBHfgg9c1X1TQtRub64lggWRJkUA/2zc2u0hQOUjUqfrVi20+cw3UN1pizp9nhtlinKMkxUHLYyfk57jPB46Vhap4We4hitZdIupBBH5cRs4bCSJRkn5fOCuuepUcDOATW54b057CyubZbK9tY25VLiO0QEkc7Rb8emd1W7jTZLrRbKykWRShh83ypjGyhcZwykEdOxqwlodMtDFYJPO7tx9punl2n1LOxOPYflTW87SdOVYLO41GUkl/KMaszHJLHeyjGfelghvbPRoIYEhkuURVYSyFVz/EcgHPfjHPqOtUYdE1CHTWik1ITzIfMiRIRFFvD7wSCWbrwfmxjtVlxql5ZFDGbZ7l8NllLW8eOeRkFjg49M+1Up9P1K8KfY4V0uKJRGyyOGe4jGR5ZC5CDuHDFhk8DNaBm1FrWOG3sVtpTlCzurRxAD7wAOWHoML0521JLZT/Yo4oL2VZ4uVmk+bef9scAg+nHtjAqN4rm7NjJPB5TIz+cquCFyjLwe4yf1qk2kXGnrbzi91XVFtGBitB9mXsVHJVOgPdvzpZNM1KXSLCK2kgtbiFTv+0RmQDKEEYVhzz1z+dEOmXo0+eOcI8y2skMZThZGbJLAEnAzgYJ7H61Z1K1WXR44pbG7uymw+XaTiKQMO4bemMf71YN14SbVYoRNYxrOkZVp78rcnYWJWP5tx3AHBYMMHH3wMV1dmpSziRoFtyihfKVtwXHGAe49On0FT0Vm+IiB4Z1Qk4As5v8A0A1meDNT09fB+kQm/tvMWzjDJ5y5B2jgjNdGkiSDdG6uPVTmnUUUUUUUUUUUUUUUUUUUUUUUUUUUUUUUUUUUUUUUUUUUUUUUUUUUUUUUUUUUUUUUUUUUUUUUUUUUUUUUUUUUUUUUUUUUUUUUUUUUUUUUUUUUUUUUUUUUUUUUUUUUUUUUUUUUUUUUUUUUUUUUUUUUUUUUUUUUUUUUUUUUUUUUUU13SMZdgo9ScVVl1jS4P9bqVpH/AL86j+tU5fF3hqH7+v6aD6C6Qn9DVOX4h+EYfva7bH/c3N/IVWb4oeEc4i1GSc+kdrKf/ZaafiTpLf6jTdYuP+uVixz+eKQ/ECWT/j38H+I5PdrLaPzyab/wmevyf6jwLqTf9dZVj/mKX/hI/G83+q8DLGPWXU4/5YFL/aPxDl+5oWkwf9dbot/6DRs+JM33pfDluP8AZWZj+vFB0nx/L9/xPp9v/wBcrEN/6FTT4U8XTf6/x5Nz2isET+Rph8BavL/rvHOtH/rm+z+Rpo+GUDnN14m1+f63mAf0NSj4WeHCP37X9z/11u2OfyxUsfwu8Gx/8wcMfVriU/8As1N+F1ulv4Ig2RhA88x4H3sSMuT6/dx+FdfRRRRRRRRRRRRRRRRRRRRRRRRRRRRWb4iAPhnVARkGzm/9ANcroXw38J3/AIb0y4utJDTzWcTyOJ5FLMUBJ4bHWpn+EnhQtuihu4D6x3DcfnmlHwxsoh/oviDXrY9vLvBj/wBBpD4C1eP/AI9vHOsr6ea/mfzIpD4T8aQ/8e/jyR/aWxU/zJo/sf4kRfc8UadP/wBdbQL/ACWlEXxPg/5b+H7n6iQf0FPGofEiP/WaLo03/XKdl/maeNf8cxf63wVFKO5i1KMfoc0h8Z6/F/x8eBtSX18mVZf5Cm/8LGEXF14U8RQe/wBiyP5ilHxR0Ff9fb6nb/8AXWzYY/LNSR/FLwdIcHVjGfR7eUf+y1ci+IHhKb7uu2o/3yV/mKtxeLPDk3+r17TWPp9qTP5Zq5Fq2mz/AOq1C1k/3JlP9atKyuMqwYeoNLRRRRRRRRRRRRRRRRRRRRRRRRRRRRRRRRRRRRRRRRRRRRRRRRRRRRRRRRRRRRRRRRRRRRRRRRRRRRRRRRRRRRRRRRRRRRRRRRRRRRRRRRRRRRRRRRRRRRRRRRRRRRRRRRRRRRRRRRRSEgDJOB6mq0uqafB/rr+2j/35lH8zVOTxX4dh/wBZr2mqfQ3aZ/nVSTx74Ui+9r1mf91938qg/wCFkeEzxHqhlPpFbSv/ACWj/hYGkP8A6i01W4/65afKc/mKP+E3Lf6rwv4ik9D9g2j/AMeYUf8ACVaxJ/x7+DNUb/rrJFH/ADaj+3fFz/6vwYqe8uqRj9ADR9t8dS/c0bSIP+ut47f+grRt+IEnWXw7CP8AZSdz+pFJ/ZvjiX7/AIi06D/rlYFv/QmpP+Ed8Wv/AK3xw4HpFpkS/rk0n/CH6tJ/r/Gmrn/rkEj/AJCk/wCECV/9f4p8SS+x1DA/ILR/wrjRH/19xqdx/wBdb6Q5/IilX4ZeD1O5tI8xvWS4lb+bVai8BeFIvu6DaH/eTd/OrcXhXw7D/q9B01T6i0TP8quRaXp8H+qsLaP/AHIVH9KshQowoAHoKWiiiiiiiiiiiuUsvCOr6XaLZ6d4sube2QsUj+xwPtyxY8lcnkmpToHijt42nH106D/CmHw/4t7eOZB9dLgph8PeMe3jth9dJh/xpP8AhHfGn/Q+/wDlIh/xo/4R3xp/0Pv/AJSIf8aT/hHfGn/Q+/8AlIh/xpD4e8b9vHa/+CmGmHw/477eOY//AAVxUn/CP+Pf+h4i/wDBZF/hR/wj/j3/AKHiL/wWRf4Uf8I/49/6HiL/AMFkX+FH/CP+Pf8AoeIv/BZF/hR/wj/j3/oeIv8AwWRf4Uf8I/49/wCh4i/8FkX+FZTp46j8Vw6CfGKbpbRrnzhp0WBhtu3GP1zWuPD3jnv46T/wVRU4eHfG3fx4P/BTD/jS/wDCO+NP+h9/8pEP+NL/AMI740/6H3/ykQ/40f8ACO+NP+h9/wDKRD/jR/wjvjT/AKH3/wApEP8AjQPDvjPv48P/AIKIf8acPD3jDv47b/wVQ0o8PeLu/jl//BXBTh4f8V9/HEv/AILIP8KUeH/FPfxvN/4LYP8ACnDQPE/fxrP/AOC6D/ClGg+Je/jS5/8AAC3/APiaX+wfEXfxndf+ANv/APE0y48Na7d20ttP4wunimQo6/YoBlSMEZC+lb1haLYadbWSMWW3iWJWPUhQBn9KsUUUUUUUUUUUySGKUYkjR/8AeUGqkmi6TN/rdMs5P96BT/SqsnhDw1L9/QNNPuLVAf0FVJfh94Sl+9oVsP8Adyv8jVZvhh4Qzuj0t4W9Y7mUf+zUf8K50lP+Pe/1e3/65X7jH55pf+EFkj/1Hi3xGnoGvQ4/IrR/wimvRf8AHv421Bf+usEUn8xS/wBh+M4/ueMoZvaXS0H6qaPsvj+L7mp6JP8A9dbaRf8A0E0ed8Qovv2vh6f/AK5yzJ/MUh1jxxF9/wAKWdx/1y1FV/8AQhSf8JR4li/4+PA92v8A1xvYpP5Uo8cTx/8AHx4R8Qp7x2gkH6NSj4g6Uv8Ax8WGr23r52nyDH5A09fiN4TJw+q+UfSW3lT+a1ai8b+Fpvu6/YD/AH5gv86txeItDn/1WtafJ/uXSH+tXIru2n/1VxFJ/uODU1FFFFFFFFFFFFFFFFFFFFFFFFFFFFFFFFFFFFFFFFFFFFFFFFFFFFFFFFFFFFFFFFFFFFFFFFFFFFFFFFFFFFFFFFFFFFFFFFFFFFFFFFFFFFMeSOMZkdUHqxxVSXWtJg/12p2cf+/Oo/mapy+MvDEP39f07/gNyrfyNUpfiP4Qh+9rkJ/3Edv5A1Uf4r+EAcR300x9EtpOfzApB8T9Jk/499K1q5/65WWc/mRS/wDCf3cv/Ht4M8QOOxkttg/macPFvieX/UeBLs/9dbxI/wCYpRrfjqX7nhC2g/666ijf+ginC5+Ikv3NP0GD/rrNK3/oNL9n+Icv37/QYP8ArlDK3/oRpf7F8bS/6zxfbQf9ctMRv/QjS/8ACL+IZP8Aj48bXzf9crWKP+Qpf+EJmf8A1/i3xE5/2LwRj9Fo/wCFfaW//Hxf6vc/9ddQkOfyIoHw28JE5k0tpW9ZbmVv5tVmLwH4Uh+7oNmf99N386uReGPD8H+q0PTk91tUH9KtxafZQ/6qzgj/AN2JR/SrAGBgUtFFFFFFFFFFFFFFFFFFFFFFFFFFFFFFFFFFFFFFFFFFclc/8lbs/wDsDv8A+jK62iiiiiiiiiiiiiiiiiiiiiiiiiiiiiiiiiiiiiiiiikIBGDyKry6dYz/AOtsreT/AH4lP9Kpy+F/D03+t0LTn9zapn+VU5fAPhOb72g2g/3F2/yxUH/CufC68w2M0B9YruZf/ZqP+EDsk4t9Y122H/TLUpB/PNKPBs8f+p8WeIF/37lJB+qUHw54kjP+jeNLoD0msoZP1wKUaX4yi+74msbj/rrpu3/0F6Ur47j+7J4fnH+0k0Z/QtUn2vxlEP3mk6Rcf9cr6RP/AEKOmtrfieP7/hAv/wBcdRib/wBCC1G3i7UIf+PjwfrQ9fJWOX+TVGfiBaR/8fGg6/b/APXXT2H8iaB8S/Cy8XF5PbH0mtJV/wDZatQ+PvCc/wBzXrQf77bP54q7F4m0Cb/Va5pz/wC7dIf61ci1Cym/1V5BJ/uyA/1qcHIyKWiiiiiiiiiiiiiiiiiiiiiiiiiiiiiiiiiiiiiiiiiiiiiiiiiiiiiiiiiiiiiiiiiiiiiiiiiiiiiiiikZgqlmIAHUms+48Q6JaZ+06xYw4/56XKL/ADNZk/xC8JW2d+u2xx/zz3P/AOgg1nzfFrwhF9y9mm/3Ldx/MCqh+MWgOcW2n6pct/0zgXH/AKFSf8LOvpv+PHwXrFx6ZjI/kppR418aXP8Ax7eA5o89POnI/mq08av8T5/9X4b0y3B7zThv5SU4R/FK46zaFa/g5x+hpw0X4jzf63xXYwf9cbRW/mtL/wAId4tm5uPHtyPaG0VP1DUf8K7v5f8Aj68ba7IO4ScqPyyaB8K9Kf8A4+dY1q59fMuxj/0GpI/hP4RU5ksp5z6yXL8/kRVyL4ceEIfuaHCf993f+ZNXYvBvhiH7mgad/wACtkb+Yq5Fomkwf6nS7OP/AHLdB/SraRRxDEaKg9FGKfRRRRRRRRRRRRRRRRRRRRRRRRRRRRRRRRRRRRRRRRRRRRRRRRRRRRRRRRVHVtVt9GtFu7pZPJMqRMyAHZuYKCeemSKwLgf8Xbs/+wO//o2t7SdXttat5bi0EnlRzvCHcABypwSvPIznn2q/RRRRRRRRRRRRRRRRRRRRRRRRRRRRRRRRRRRRRRRRRRRRRRRRRRRRRRSVXl02wuP9dZW8v+/Ep/mKpS+FPDk/+s0HTWPr9lTP54qlL8PvCU33tCth/uAr/Iiq3/CsvCyHNvZz2x9YbuUf+zUv/CAW8f8Ax7eIfEFt7R6gcfkQaQ+ENai/49fGuqJ6eekcv8wKb/YfjiH/AFXjC3uB6T6ai/qppfL+IsH3Z/D10P8AbSZGP5cU06r4+g+/4a0+6/64X2zP/fVIPF/iOH/j88C3y46/Z7hJv5AUv/CxLWH/AI/tA16y9TNYnb+YNT23xJ8I3LbP7XSF+6zxvHj8xituy1nS9Rx9h1K0uc9oZlf+Rq7RRRRRRRRRRRRRRRRRRRRRRRRRRRRRRRRRRRRRRRRRRRRRRRRRRRRRRRRRRRRRRRRRRRRUc8yW9vJPIcJGpdj6ADJrzWy8a+LfGFw0fh6PSdPhz8rXNwry49SoJI/75/Gr7eCfGOoDdqXjqeIn7yWkRQfmpX+VMHwe0ydg+pa1ql43vIoz+YJ/WtG1+FPg+3wW055yO8s7/wAgQK1rfwZ4YtgPL0HT+Ohe3Vz+ZBrQh0vTrf8A1FhbRY/uQqv8hVoAAYAwKWiiiiiiiiiiiiiiiiiiiiiiiiiiiiiiiiiiiiiiiiiiiiiiiiiiiiiiiiiiiiiiiiiiiiiqOs6bHrGjXenS8LcxMmf7pI4P4HBrzC58SXB1G3vf+YmNDey2d/tPniL+fNenaHpceiaJZ6ZFyttEEJ/vHufxOT+NX6KKKKKKKKKKKKKKKKKKKKKKKKKKKKKKKKKKKKKKKKKKKKKKKKKKKKKKKKKKKKKKKKKKhuLO1u123NtFOvpIgYfrXP6r4O8FmMzahpen2qf89ARbj81Iri9S1vSPD0gXwn4m1S8u84jsFJuoGPpz0H0JNen6VcXd1pNrcX1t9mupIlaWHP3GI5FW6KKKKKKKKKKKKKKKKKKKKKKKKKKKKKKKKKKKKKKKKKKKKKKKKKKKKKKKKKKKKKKKKKKRlDKVYAgjBB71yepfDDwpqLtINPNpKxzvtZCmD7Lyo/Ks0/DvWtPH/Ek8aajAq/diuMyL/MD9Kelp8UdP5XUdH1NR0EqFCfyVf51kax4+8Z+Hr2BtX0nTYogDvhS5TMo9R8xYfka7Hwf4zsvGNpNLa288EluVEqSgYBOcYI6jg+n0roqKKKKKKKKKKKKKKKKKKKKKKKKKKKKKKKKKKKKKKKKKKKKKKKKKKKKKKKKKKKKKKKKKKKKKKKK8/m8HtJ8XItSEMgsFg+2M+0+X5+du3PTOQHx9a9AooooooooooooooooooooooooooooooooooooooooooooooooooooooooooooooooooryPxH4u8ZapcmC00+80GxDcSS2s3mOP9pkUkfRfzNb9v4b8Xa5bxXV/41lhgmQOqWNv5R2kZHPysPxGat2/wt8OiUTag17qs39+8uWb/wBBx+tdJp+iaVpK40/Tra14xmKIKT9T1NXqKKKKKKKKKKKKKKKKKKKKKKKKKKKKKKKKKKKKKKKKKKKKKKKKKKKKKKKK5/xzeT6f4Qvbm2meGVTEqujbWG6RVOD9DULeClfr4k8RfhqJH8hTD4CtW+/ruvv/AL2pPR/wr7TD11LWT9dQkph+HWkHre6sfrfvTT8NdEPW61Q/W9emn4Y6Ces+pH/t8amn4WeHT1fUD/29tTD8KPDJ6/bj/wBvTU0/CTwseqXh/wC3k0h+EHhM/wDLK7/8CDTT8HvCh/gvB9J//rUw/Bvwsf4r4fScf/E0n/CmvC3/AD0v/wDv8v8A8TR/wprwt/z0v/8Av8v/AMTR/wAKa8Lf89L/AP7/AC//ABNH/CmvC/8Az0v/APv8v/xNL/wpzwyOk+oj6Tr/APE0f8Ke8O9rvVB9Lhf/AImj/hT+gdtQ1YfS4X/4ij/hUOidtV1kfS5T/wCIpR8I9HHTWdcH/b0n/wARSj4TaUOmt66P+3pf/iKcPhTpg6a9rw/7e1/+IpR8LNOHTxB4gH/b4v8A8RTh8L7EdPEXiH/wNX/4ilHwysx08SeIh/2/D/4inD4a2w6eJ/Eg/wC38f8AxNPX4dRL08VeJv8AwYf/AGNSL4CVenivxN/4Mj/8TUq+CAv/ADM/iM/XUD/hVRrKfQfF2g28esapdxXzTrIl3cmRfliLDjA712VFFFFFFFFFFFFFFFFFFFFFFFFFFFFFFFFFFFFFFFFFFFFFFFUdclkg0DUZonKSR2srIy9VIUkGua0jwzNquh2F+/ifxBE91bRzMsd4MAsoJxlTxzUz+B70/c8Za+v+9cKf6CoH8C6wfueOdZH1bP8AWoj4C8Q/w+PtUH1Un/2emHwD4l7fEHUR9Yj/APHKb/wgPij/AKKHf/8Afhv/AI5R/wAIB4p/6KHf/wDfhv8A45QPAPijv8QtQ/78t/8AHKcPAXiTv8QNSP0jP/xdPHgPxCOvj7VD/wAAP/xdSr4I19f+Z71Q/wDAB/jUg8G66OvjjUz/ANs1p48Haz38baqfoqf4U8eENV7+M9XP08v/AAp48I6h38Ya0fo0Y/8AZaePCV338W66fpLEP/ZKD4Qnbr4r8QfhcRj/ANp0w+C5D18W+I/wvE/+IqC+8JzWWm3VzH4o8QSSQwu6CS8GCQCRnCjitjwrdS3vhPSbmeRpJZLOJndjks20ZJ9ya1qKKKKKKKKKKKKKKKKKKKKKKKKKKKKKKKKKKKKKKKKKKKKKK5fxQk974g0PS01C8sorsXBka0mMbnaqkcj3/nVSb4bwTElvE/iMk/3r7d/7LVOT4T279fEusn/emB/pVd/g7av18Q6kf94g1A/wUs3/AOY9dn6xg/1qI/A2z7a7OPrbj/Gp4fgzbxLt/tZHH+3ZKf8A2ara/Ci2VdourI+504E/+h0g+FEIOft1of8AuGJ/8VUh+F0ZXAvrRfddPAP/AKHVab4RmUEDX3iB/wCedoF/9mqNfg6V/wCZovvwTH/s1SL8I2X/AJmrUvw4/rUq/Cl1/wCZs1b8Hx/WpV+GEq/8zdrY+kxH9alX4bTr08Y6+PpdEVKvw9uB18Z+JPwvSKkX4fv/ABeMPE5+moY/9lqVPAmz/ma/Ezf72o5/9lqGOzuNB8ZaPaR6xqd5DfQ3PmJeXHmDKBCpHAx1NdhRRRRRRRRRRRRRRRRRRRRRRRRRRRRRRRRRRRRRRRRRRRRRRRRRRXL/ABF58IyR/wDPS5t1/wDIyV1FFFVtRvF0/T57t13LChYjci/q7Ko/EiuZfx2E0qC88nT0Z1fcbjU4kRmQDIRo/MBJz0JBrV0jxA+qWV1PHBbXLW7BQunXi3CyZAOAzBADz0P501Na1K7WA2WlwEzq7qtzdmMqqkA52o4zkngEjA69qtW2pzC0uJdQtRDJbSbHS1L3OeAQRhAx+9/drLHjKA6XPcfZr7zY2kC/8Sy52YViBk7OOAM89fStSXV92mG7sreR3MixpHdJJbZJYDncm4DnrtNYp8ZOshjNz4YDg4KnX+QfTHk1qnWJ49Flu7iGCG4SQwqiSmRC5bavzFVJBJHYVTvPEmpW0l4q+Hr0iCJXVi8GMktyf3vQ4479c1Nq/iKTS9IjvZbB7eR5NvlXNxbx7ee7GULyAcYJPtVC98cLbzxoi6VEsgQgXuqrC+GXOcKrqV7bgxFX5fEixaBbakRaq1y/loWugIAckZ8wgZXjggZPHFU4PGaSG8gP2Lz7QtuklvYoocBtvPzNIv1KY/MVpnW3+yWUsWm3F3LdxeaI7Z4ztGBnl2QEfMP8Khi1rVgZfP8ADGobQ58spJbfd9wZuvX/ADxVqTXbOGxtbuVbgLdgGJI7d5n5XdysYY9PwrOuPFa/anitre8IEQdRJpV3ljuOQcR5AxjnBx79Ku6lq8lpLZRRRN/pWSX+zyylAMfwKuec4yxUDv6VQuPEt9awJMbGG4RiMmKR22qc8ny1kCng9SF4++ecXtV1W/sbyKC2sbeZJFz5k00sag+hZYXUdsZYZ9Kpy+I9QUq6aba+UYUlzJcyoSCMkL+52MRzwGzxzip9d12+0q4jitdKa7Vo9xcCcjOfu/uoZOfrioW8R6iNVSz/ALEk8pnRTIRPkBgCTkQlMDJ6uOhroqKK5XxO2zxd4Tb/AKep1/OIiuqooooooooooooooooooooooooooooooooooooooooooooooorO8Q/8i1qn/XnN/wCgGofCX/InaL/2D4P/AEWta9FU9U1ax0az+2ahOIIN6pvKk8k4HQUthqun6pGZLC9gulU4YxSBtp9DjpWfeeKrG0ikY22os6Haq/2bcgM2cABvLxyeKtWuuWl3L5UcN+rbS2ZdOuI1492QD8KybnxlHDZmdVt4/wDSjAP7ReSxXHYguhLHpnA4zzipfD/iqHXJ2T7Vp3mCLf8AZrW585h7lvl/EBePXtVuXWXW2WdYl+ez85EzklyQFXPHUkCls9ammeWK70i+tWgiEkjOI3BznhRG7sScHjFZV141jt7K3nAs42mklTbqE72XCk4IDoS3GATjAPFXdA8Sw6ylw/2qxkaJFZoLKXzynGTyMFu3RBzxk02DxbayT3aPb6hticCPbpV0TjaD83ycck+nFWrDXY77RnvlhnDxQeY6y20kIJ25wpdRke4zVSDXr2aOORYYvnXc0cqPAyjIGFD4Z+SBnaAc5GT8pvaHqsurWkks9r9mkjkKFP3noDnDojDr3UVp1Xv1D6fcoejRMD+RrK8E/wDIk6N/15x/+g1u0UUUUUUUUUUUUUUUUUUUUUUUUUUUUUUUUUUUUUUUUUUUUUVzGtt/xX/hdf8AYvD/AOOJXT0U1XVs7WB2nBwehrIPi/w6t61o2sWqypjO6TC89g33SeOmatarq8Gk6ab+RfNhBAys0SDnod0jKv61l6f4ztdR037bHaTBQ6IVidLgknk4ELO2QMnBANWrzxCiaYL2xgMpMvlFbpZLfaQCSSChYcD+7zWTdfEG2sbO3lubEiWZXJT7THGF2lh/y2MbHlf7oxn1wDpnX7i60WHVNLsoZ0kbaUnugh+9tGCiyK2T6HHvTL/WdbsQ5/smwfy7czv/AMTBx06gfuef0qxqer3em6bb3ElpbefM4RkNy3lqTnADCMsxPQYTvUT67eWcFtNqWli2Sb77pMXWLk8N8oOSMY45JwcHqniHxINCitmeAZmIJ824giAGRuXMki/Ng9sikufGWi2ti00uoWUVwqBjaS3kQkBPODtYjoe2aNR8UwWl3YRWyx3aXnKNHdW6+Yp4GzfIpY5x0BH41O2uYlNysYOloSklzno397/cHQt6+wJrWBDAEEEHkEd6WuV1t8/EbwwnpDeH80X/AArqqKKKKKKKKKKKKKKKKKKKKKKKKKKKKKKKKKKKKKKKKKKKKKKKKKK5P4jtt8Nwj+9f24/8iA/0rrKKKqapMYNMuJVadCqEgwBDJn/Z3/Ln68Vxmtz6o+jtJbzXpuY1mhdLqe3SduFJUKkLoVxg5yuO5rV0e3ubnRrwapDHqEk7qjRSyJPhgANrqIYwAOD0PHOelYT6XZ6V4djC2Gnyx5lmVZtCku8nOOWjwE6dT2x6V0uh2xh0eWPSJltmMm7/AEnSWt40OBkLFiMkehJJ9SapR2+sy6Jc+RqlnLau8hLppUhZwzEsyfv+RknHHOOM8Z0y91NpUU1ze2l4slzC0clrAYl2719XfP5is2e+vxcuF1HWxcC62i3XTMwbPMxjzPI6bec7/wAas6lbJcaRcM67/K1DeqE/KW8xcE/SuK1bSxDrEwj0u3YPcBD5GmAxg7MkKfscueQedxOc/KO3V6e8lt4P09bSO7t5pXYbNNht42JBYnKyoqDgc/Kp9h0rL1i41drq0n024ndJ/KmYC4iEi/JgO6/Z2CnA6AnODhfTZli1EaJpgtorm4kWUyvPYT28hwQ3IaUIpzu7L69OKrG81Ntkr2uqIJUMdvNG9lvLuQxwXnZSDgAKF4HrV2ayvG8N2wufsFukFrtuY9RsxcdAM8rKFA46c9qoWPhy4S9h8uz8M206wrOHTQyGRiegIm7etaeoQWckWnJf3kcUFtG8zz2szWsYAAXgq+VX5um7tVGGWOWSxsobppUuUlR5JJGlIh37ly5zyyggZOSORnFM8WRx6hJa3Ef2mYRxB7ZI7FpUyTyxb7PLtOAMcA/TNcxZRTajcTwajDrSQQt8lw9qbktIB95QbLIbPBYlW4HXArsNfvLm3SzMcM1xcTQEqyrL+5YAZcIsEnzHd1ZeOnGSDjwXlwwt7WXTJbfzZI4JbhBdbihIXbma1CqvTIDLz0wTVzxvAt9fWyLaSXBgRgwaweVfmwRhjbTL27YNc94dsha31ldtp8kaxTFi8emOWxkjgpYof/Hx/SvVQcjPrS0VyXi87fEvhQ9/t7D80NdbRRRRRRRRRRRRRRRRRRRRRRRRRRRRRRRRRRRRRRRRRRRRRRRWd4h/5FrVP+vOb/0A1D4S/wCRO0X/ALB8H/ota165Txrf3+mvY3WkTTS6irNt09clLiPGWLDtt6g/h3rJmtIHtNH1W0vWub7Ub+NpL18nDbHAXb/Cqk42/nU2lW+pXni23PiKa0s9RstzRfZLcob1MYz5hY7l7lcAg1V8V2X2rxRct9h+0YijG77H52OD3+yTY/76H071seBLc2sOoILYQHzFIQweTn5fTyIfz2fie0d3c6hp1kzuxu2uL+RJIYlkUHqQBsWR8YBzhSST1A4pvgy9u5gbdopoLdbbeIn85gTnqpkiQj6KWXpgL3tWsT3iQpcwSWaw6ePLklbYysMfOV/hA6jPPsMCr+g3UuoWdzfqqrNMwVY3P3dqgDdjOMnJ+hFYN9dX2naRbxODfi4ecyxqkiqSGPaNJG2f7OPqxzVzwld6hdWU1upa38qBPJW5E0oUkHBzIkbkcHjJHowxipraHXTcag1tqunzMWBkI0x9pcLjap88cjAz6E9fQgW9bwzPFJqcU8Kw+QDa6fIs0eMBgV3SEtjtt61xd2t3p80EGn2mrPA0u2JYbcwBB1LlPsIGccHbuJBxyK7bwdaxWdvcQ25uBCSr+XNZG3COR8wUeTECOByB65xmukqG8OLKc/8ATNv5VkeCf+RJ0b/rzj/9BrdoooooooooooooooooooooooooooooooooooooooooooooorlNab/i5HhlfSC7P/ji/wCFdXRXBavdTaD4i1DTLKIifxCEa0ZRkCX7kjH0wuGqla22t6U2tQeHYrWa3tLxY5rO4iMm+PyY/mUZGT1OMjOavwiz0vwULm31YeXLdiUNCYbcQtu+ZI1mO1cYPysfWq2jXgu9Ble3me9vJFjgt1lmgduFBYYhJCjAP3vmrX8TW+n33hq3uVEMweYSRvOqsAXOW4aNxnGQPkJ7DmuZvVsrGx09UeK1E8BkZd32UMclSSv2m3XOOwTjJ6ZxXQBLdvCukzXmp/Z7AziSaRZmh3ZJIzL5rkc85DnJxzjgxXNpc3mly3Eet3wQaVuKr5Tgg5wNzIWOdpOc59609d0iSbS7Xbptvrd1GdplvbSGZ1QgkkKWjXrgcEfjXO3sEgs7NLjSLSVPs8cVhLKRC0UmeVQeXKitux1bGAMZwTXTan52n21jp9gdSRkhJ2acloPlXAORKAoHI4UD6U7UTM2izzK8ktvcWofdIRuRsDsOOR2HAIPrT9Zu5ItTtYkl1JUIBlFstuY9pcL8/mDdgk4+TtXGzLe/2kL1bS+86Nf3cy2unfKu2TAViu8LheB1xnvivSbdVW2iVVCqEAAUYA47Cpa5PWFz8S/Dh9La6P8A46K6yiiiiiiiiiiiiiiiiiiiiiiiiiiiiiiiiiiiiiiiiiiiiiiiiiiuS+JAz4ct/bULf/0OutooqG6tYL22ktrmJZYZV2ujdGHoarW2h6XZW81vaWEFvFMCHSJNgIPUcdB7CriwxJIZFjUOwClgOSB0BP4n86zrnw7p11GI5PtaxhSvlxX08SkEknIVwD170+PQrFLZ7ZhczwyMCyXN3LMDjt87Hj26HvWgAAMAYA7VXFhahXURACSUTMASBvBBz+YB96lnhW4geFy4V1KkxuyMPoykEH3BqvFpdpDY/YlSRod24+ZM7sTnOSzEsefU09rC2aBINjBIySu12BBIIzkHOeTz75qCXQtLnsIbG4so7i2hOUjnzIM88ndnceTyc889amg02ytreKCC3SOOFgyKvGCBgE+px60270mwvoRBc2ySQ7zI0XIR2PXco4brnDAjPPWpp7O1ubY2txbRTQEbTFIgZCPTB4qD+yLH/RswlltBiFHkZlX0O0nBIxwSMjtikvtItNRlSWdrlHRSoa3u5YCR6HYwz+NT29nb2oUQx7dkYjXknCjoOaibSrJrOS0MH7qVtz/MdzN/e3Zzu985qwIUWDyFGyMLsAUlcDGOCOlR2dlDYW4ggEmwEnMkrSMSepLMST+JqK/0fTNUaNtQsLe88oEIJ4w4XOM4B4zx1qsnhbw9FKksOiWEMkbB0kitkRlIOQQQAa1qjhhjt4hHEu1ASQM56nNSUUVyHjDJ8UeElH/P85/JK6+iiiiiiiiiiiiiiiiiiiiiiiiiiiiiiiiiiiiiiiiiiiiiimvIkSF5HVFHUscAVzXibxT4fi0LUbdtZsjNJayosazqzElSAMA1d8GypN4L0V42yBYwqTjHIQA/qDW1URtbdrpbowRmdVKLKVG4KeSM9cVSs/D+nWNxcSwQcTzCcxN8yJJ/eQH7pPfFXpIIZXjeSJHeI5RmUEocYyD24rLPhfTTNJKJNSV5DlyuqXIz+UlS2egWNjdfaYXvjKRgmW/nlB+oZyD+VOk0HS57RLS5s1uoEkMoS5JlBY55O4nd1PXNPsdE0rTJnl0/TrWzd12ubeJY9w68gYzUtzp9peSK9xCJCoxgk7SM5wR0PPPNOayt2uHuNhWV02O6MVLD3x1x2PUZOMZqpL4e0i4tre3urCK6its+WtyPOwT1J35yfc5NOt9C0qyinisrGG0S4ULItsvlBuv93GDz1HNXIIIbWBILeJIoo1CpGihVUDoAB0pEtoY7mS4RAssoAdh/Fjpn8+tRmwtzqAvz5pmVNi5mcoB7JnaD74zVmiqupts0q7b0gc/+OmsfwPeWkng/SIY7qF5EtIwyLICQdoyCK6KiiiiiiiiiiiiiiiiiiiiiiiiiiiiiiiiiiiiiiiiiiiiiiuU1tcfEfww3rDeD/wAcX/GuroqKS1t5Z4p5II3lhz5cjKCyZ64PaljghieSSOJEeU7pGVQC5xjJ9eBRHBDDv8qJI/MYs+1QNxPUn1NRw2NrbujxxANHGIkYkkqnoM9O31wPSmjTrRSxWLZudn+ViMMwwSMHgnnkdyT1NUZvC2lzxxxuL0JHH5aqmoToNvfIDjJPcnk96v2thb2lukCeZIkbblM8zzMD/vOSf1pP7OtPs01uIQIpwRIoJGQRjHtx6dKW8sIb+AQzNcIgOR5FxJCfzRgfwqOPSNPizi1Rsx+ViTL4TAG0bs4BwMgdeppl3oOk36Qpe6fBdJApSJZ18wKDjs2eeBz1p9xpNndQQQSrKIoMbI0nkRSB0DBSNw46NkUXmjabf3UV1d2cU08GPKkdctHzn5T2OR2psmiafLF5bQsFwB8srqcYI6g56M351eACgADAHApa5fVBn4kaD7Wd1/7JXUUUUUUUUUUUUUUUUUUUUUUUUUUUUUUUUUUUUUUUUUUUUUUUUUUUVy/xGX/ij5psgC3uIJST6CVc/wA6vt4w8Mr18QaZ+F2h/rUbeN/Cy9dfsPwmBqNvH3hNeuvWn4Nmoz8RPCK9dct/wDH+lMPxJ8HjrrcX4Ruf/ZaT/hZXhDtrCn6QSn/2Wm/8LP8AB27aNYy3oLaY/wDslOPxJ8Kj/l/mP0spv/iKafiX4XH/AC93B/7c5f8A4mm/8LN8Mf8APxdf+Acv/wATR/ws7wx/z3uv/AOT/Cj/AIWd4Y/573X/AIByf4Uf8LO8Mf8APe6/8A5P8KP+FneGP+e91/4Byf4Uf8LO8Mf897r/AMA5P8KQfE/wuc4uLo4ODi0k/wAKX/hZ3hj/AJ73X/gHJ/hSf8LO8Mf897r/AMA5P8KQ/FDwsOtzcj/t0k/wpP8AhafhMdbycfW1k/wo/wCFq+D++oyD620n/wATSj4qeDD/AMxZh/27S/8AxNOHxS8Fn/mM/wDktN/8RTh8TvBp/wCY0v8A34l/+Jpw+Jfg4/8AMbj/AO/Un/xNPHxH8IHprkP4o4/pTx8QvCR6a7bfjkf0p48e+FD016z/ABfFPHjjwsemv2P4zClHjXwuTga/p/43Cj+tYuqappmt+NPC6adqNreeTNcSSCCZXKgRcZweOa7aiiiiiiiiiiiiiiiiiiiiiiiiiiiiiiiiiiiiiiiqtzqdhZZ+131tb46+bKq/zNZF14+8J2efN120bH/PJjL/AOg5rHn+L3heNtlub28bsILfr/30RUX/AAsjVbv/AJBfgnVbgHo8oKL+YUj9aBrfxMvf+Pbw1YWSH+K5m3EfgHB/SnrpHxKvf+PnxHp9gp6rbW4cj81/rT/+Ff6tc/8AIR8cavMD1WA+SD+GSKki+FPhoMHvPtuoMO9zdMSf++cVY1TwX4a07w9qMlrolmskdpKUdo97KQhwQWyc07w34n8PWnhfSbebXtNSSKyhR1a7jBUhACCM8GtE+MfDI/5mDTf/AAKT/Gmnxp4XH/Mwaf8A+BC/400+N/Cw/wCY/Yf9/hTT478Kj/mPWX/fymnx94TH/MetP++qT/hYHhP/AKDtr+Z/wo/4WB4T/wCg7a/mf8KP+FgeE/8AoO2v5n/Cj/hYHhP/AKDtr+Z/wo/4WB4T/wCg7a/mf8KP+FgeE/8AoO2v5n/Cj/hYHhP/AKDtr+Z/wo/4WB4T/wCg7a/mf8KP+FgeE/8AoO2v5n/CgeP/AAmf+Y7af99H/Cnjx14VPTXrL8ZQKePGvhdumv6f+Nwo/rVbWPFvh2XQ79Yde055GtpAqi6TLHacADPWsnQfh74W1PwtpVzd6SjTzWULvIkjoSxQEngirY+HFhb86brOtaeR0EF6dv5EGnf8I14utf8Ajy8avIo6Jd2SPn/gXWjb8RbXo+gXyj1Esbn+lL/wkPjG2/4+/BgmUdXtb9D/AOOkZo/4T0Q8X/hnXrXHVzZ70H4qaki+JHhSR/Lk1M28n9y4gkjI/NcVr2niLRL7H2TV7GYnslwhP5ZrRBBGRyDS0UUUUUUUUUUUUUUUUUUUUUUUUUUUUUUUUUUUUUVynia6tbDxl4avL25htoUW7VpZnCKMouOTx2q+/jXwunXX9PP+7cKf5Gq6/EPwizMo122ypwc7h+XHP4U7/hYHhP8A6Dtr+Z/wpD8QPCQ/5jtr+Z/wpp+InhEf8xy3/AN/hTT8SPB4/wCY3D/3w/8A8TSf8LJ8H/8AQbi/79v/APE0o+I/hFumtRn6RSf/ABNPHxB8LN01UH6Qyf8AxNB+IPhVeuqqPrDJ/wDE0w/EfwgvXWox9YpP/iaT/hZPg/8A6DcX/ft//iaP+Fk+D/8AoNxf9+3/APiaP+Fk+D/+g3F/37f/AOJo/wCFk+D/APoNxf8Aft//AImj/hZPg/8A6DcX/ft//iaePiJ4Rbprlv8AiGH9KlTx34Uk+7r1kP8Aek2/zrB1o6P4s8ZaJDZawJAlvcl5NPuwJIyNmMlTkZ5+uK1/+ET1S3H+geMNXjPb7T5dwP8Ax5aQ2Pjm0/499a0rUP8Ar7tGhJ/FGP8AKlGqeNLfifw1ZXfva6gE/R1/rSf8JjeQcX3hLW4j3MEKzqPxVv6UD4ieHIzi8nubFv7t1aSp+u3H61oWvi7w5eY8jXLBieim4VT+ROa1Ypop03wypIvqjAin0UUUUUUUUUUUUUUUUUUUUUUUUUUUUUUUUUUUUUUUUUUUyWGKeMxzRpIjdVdQQfwNQrptgv3bK3H0iX/CpFtbdfuwRD6IKydS8XeG9FyLzVrSJl6xo29/++Vya5W8+MemmXyNG0q91KY/dGNgP06n9Kr/ANtfFHXv+PHR4dIhbo8yhWH13nP5LUsHw68R6l8/iPxGs7bgwVVaYL14CsQmDnuh6DFbtj8OPD9ouJ0nvhgfLcSfu/X/AFa4X9K6uiiiiiiiuV8Fptv/ABMfXWJP/QEP9a6qiiiiiiikrF8R+ENG8UwJHqVud8Z+SaI7ZF68Z9Oeh4rlX+F+o2HOheLb62A+7FP86n64IH/jtRG1+J+kH/U6VrSD1RFOP/HDn86D46vrAY8Q+AbiFR96aGPcv6rj/wAeq7p/xA8AX+A6Q2jn+G5swP1AI/Wuq0yXQbsifSn0+VgPv2xQkf8AfPStOiiiiiiiiiiiiiiiiiiiiiiiiiiiiiiiiqV3rOl2GftmpWlvjr5s6p/M1i3fxH8IWed+tQuR2hVpM/8AfIIrGufjL4cjbZa21/dOemyIKD+Zz+lQj4k+Ib/jSfBF9ID0klLbf0XH60o1H4q6j/qtI07TkPRnYEj82P8AKlHhf4jX/wDx/wDi+G2B7Wqcj8lX+dPHwrkuv+Qv4t1e9z1w+3P/AH0Wq5a/CXwjb4MlpPdEd5rhv/ZcVs2vgrwxZ48nQrHI6F4Q5H4tmteC1t7VdtvBHCvpGgUfpUtFFFFIQCCCMg9RVT+yNM/6B1p/34X/AApP7G0v/oG2n/fhf8KT+xdJ/wCgZZ/9+F/wo/sPSP8AoFWX/gOn+FJ/YWj/APQJsv8AwHT/AApP7A0X/oEWP/gMn+FJ/wAI9on/AEB7D/wGT/Cj/hHtE/6A9h/4DJ/hS/2Bov8A0CLH/wABk/wrmLjSNNX4oWcA061ELaVIxjEK7SwkHOMYzXUf2HpA/wCYVZf+A6f4Uv8AYmk/9Auz/wDAdP8ACl/sbSv+gZZ/9+F/wpf7H0z/AKB1p/34X/Cj+ydM/wCgda/9+V/wo/snTf8AoHWv/flf8KP7J03/AKB1r/35X/Cj+ydN/wCgda/9+V/wo/snTf8AoHWv/flf8KtKqooRFCqowABgAU6iiiimSwxTJsljSRfRlBFZdz4T8O3mfP0Owcn+L7OoP5gZqkPAHh2I5tLa4sm/vWt3LHj8A2P0pT4UuYubPxTrUJ7CWZJl/J1J/WmHS/GNvzb+JbS6/wBm608L+qMP5Uw3fjy15l0rRr8eltcvET/32DTT4t1y2/4//BWpJjr9kljuP5EUw/ErRIP+Qha6pp3r9rsnXH5Zq5beP/Cd3jy9dtFz/wA9WMf/AKEBWva6pp17j7Jf21xnp5Uyv/I1boooooooooooooooooooooooooooopCQoJJAA6k1z+q+PPDGj7lutWgaRf8AlnCfMb6YXOPxrIHjzWNX48N+E7y4QnAuLwiGP6+/50yfw3418QhRrWt2OnwZz5FlbiRl/wCBNyD9Cauad8MPDVmyy3UEupTj/lpeSF//AB3gfmK6GPRNJhjEcWl2aIvRVt0AH4Yp39k6b/0DrX/vyv8AhS/2Tpo6afa/9+V/wpw0+xX7tnbj6RL/AIVILW3XpBEPogp4jReiKPoKdRXKfDaaWbwbC0sjyMJ5gCzEnHmNxXV00op6qD+FNMER6xIf+Aimm1tj1t4j/wAAFH2S2/594v8AvgUjWNo33rWE/WMVGdK048nT7U/WFf8ACk/snTf+gda/9+V/wqWCxs7Zy9vawwsRgtHGFOPTip6KKKQgEEEZB7Vm3fhvQr7P2rR7GYn+J7dSfzxmsiX4a+FJH8yLTmtpP79vPIhH5HH6VH/wgTQc6f4p1619EN35iD/gJFJ/YHjW1/49fGMdyo6JdWCf+hLzSGf4jWf37PQ9QUf88ZJI2P8A31xTD4v8T2nGoeBbzjq1pcLPn8AKb/wtHSIONR0zV9OI6/abQgD8iavWvxH8IXeBHrcKE9pVaP8A9CAratNZ0u/x9j1K0uM9PKnV/wCRq7RRRRRRRRRRRRRRRRRRRRRRRRRRRRRRRRRRRUVxdW9nCZrqeOCJeryuFUfia5PUPih4btJPIs5Z9UuO0dnEXyfqcD8s1nv4i+IOufLo/huPS4W6TXzfMB9Dj/0E0wfDvxBrPzeJvFtzKh+9b2nyp+uB/wCO1rad8L/CWnYP9nG6cfxXMhfP4cL+ldPaWNnYReVZ2sNtH/chjCD8hU9FFFFFFFFFFc34RK/bfEijqNXkJ/79x10lFFFFFFFFFFFFZ1/4f0bVcm/0u0uWP8UkKlvzxmubvPhN4VuH8y3hubCTqGtpzwf+BZxUA8EeKdM50XxtdFR92K9j81R+JJ/lSHU/iVpH/H1o2n6xEvV7WTY5/Akf+g0sfxWs7VxFruh6ppMh4zJDuX8+D+ldFpnjHw5q+BZaxayMeiM+x/8AvlsGtqiiiiiiiiiiiiiiiiiiiiiisu/8S6HpmRe6vZwMP4GmXd/3znNYF58WfCNrkJezXRHaGBv5tgVmD4ui+YrovhjUr89Bxj/0ENUn/CQ/ErUR/oPha1skP8V1JyPwLD+VNOg/E7Uv+PzxJZ2MZ/gt1+YfiFH/AKFSD4U3V5zrPi7U73PVQSP/AEJm/lV60+EXhK2x5tvc3eP+e05H/oO2tm18D+FrPHlaDZEjoZIhIf8Ax7NbFvZ2tou22tooR6RoFH6VNRRRRRRRRRRRRRRRRRRRRRXLXQ/4ulYH10qX/wBGLXU0UUUUUUUUUUUUUUUUUUUUUVn3Wg6PfZ+16VZTk95LdWP6isW6+GnhC7yW0dIm9YZHTH4A4/Sqn/Cs7W350vxBrennsIrvKj8Mf1pP+EX8a2X/AB4eNjMP7l3aK3/j3Jo834m2PDW+iako/uM0bH88Cmnxn4psuNR8CXhx1a0nE36KD/OkHxY0SFwmo2Gqac/cXFtgfoc/pWrZ/ELwlfY8rXLZCf8AntmL/wBDArcttQsr0ZtLyC4HrFIG/kasUUUUUUUUUUUUUUUUUUVBeX1pp8BnvLmK3iXq8rhR+Zrkb34qeH4pvs2mpdatcnhY7SEkE/U4/TNRrqXxC1w/6HpVnoUBPEl4/mSY/wB0f1FKPhzLqRD+JfEmo6me8KN5UX/fIz+mK3tK8H+HtFwbDSbaN16SMu9/++mya2qKKKKKKKKKK5T4bLs8IIn926uB/wCRWrq6KKKKKKKKKKKKKKKKKKKKo3WiaTe5+16XZ3GevmwK38xWPdfDnwjeZ8zRIUJ7ws0eP++SKpf8KzsLfnTNa1rTiOggvDtH4EZ/WmHwn4wtOdP8czOB0S7tVk/8eJP8qbj4nWPRtE1NfcMjH/0EU0+MvF9hxqXga4kA6vZziT9AD/OkT4t6JE4j1Kw1PT5O4nt+P0Of0rWs/iH4SvceVrluhP8Az23Rf+hAVuWuoWV8u6zvILgesUqv/I1Zooooooooooooooooooooooooooork/FniLVre9h0Xw1bJdalKN0zH5vsqZADMOBzzjJ7dDVSz+GttdzrfeJtRu9ZujglJn2RofQKD/XHtXWWGl6fpcXlWFlBapjGIYwufrjrVuiiiiiiiiiiiiisDxBq13pOtaEVdVsLu4a2uQyj7zL+7Oeo5B+ua5611k6JZeONQVlD2985j3dN5RQv64rs9HF0NFsftsjSXX2dPOdgAS+0ZyB05q7RRRRRRRRRRRRRRRTXRJEKOoZTwVYZBrA1HwH4W1TJudFtlY/xwr5TfXK4z+NZJ8BX+jqZfDXiTUbXbytrOVniPsAcAVPovi3UracWHjCyTTJmfZBdHIiuD2GRlQf+BV2FFFFFFFFFFFFFFFFFFVNT1Sx0exe91C5jt4E6u57+g9T7CvMbr4geMvEc7xeFNHZLcMQtysRfd2zuYBR9CKt2vw78Q69CJfFHiXUF3fetVYED8QxX9K2bL4SeErTBktZ7sjvPO38lwK3rPwn4e0/BtdFsY2HRvIUt+ZGa1lUKoVQAB0A7UtFFFFFFFFFFFFFFFFFFFFFFFFFFY3i1br/hGbyayeRLm2UXEXlsQSUIbB9QcYI96xhfw3njrSNRV1EMuiyzbgcgAsh61oeBp7i98NrqN1JI731xNcAOSdqs52geg2gfnXRUUUUUUUUUUUUUUUUUUUUUUUUUUUU10SRCjqrqeoYZBrHvfB3hrUMm50OyZj1ZYQjH8Vwaw7r4R+E5zmGC5tD2MFweP++s1Qm+HOtaYhfQfF+px7fuwSHcD/48B+lZ/wDbHxV0In7Tpg1SFejGJHYj/tkc/nmtXRfixYXE32bXrb+x5xxiQuQT9NnH4mu6trq3vbdbi1njnhcZWSNgyn8RU1FFFFFFFFFFFFFcT488Y6jo91Z6L4ft0utVvQx2gb2iUYwdvfPzHJ4AU5qhpvwxbVHTUvGGo3l/dtybdnCqntlSf0IruNN0fTdHh8nTrGC1THPlIAT9T1P41doooooooooooorCk1O7tvHMOmzSZsr2yZ4FKgYlRvmAPU5Ug4PpXMaZql1pXw73WEgjvLjVHt7clQ3zPcEHAPBO3d+VeiUUUUUUUUUUUUUUUUUUUUUUUUUUU10SRSjqGU9QwyDWVd+E/Dt9n7Toli5PVvIUN+YGawbz4S+FLlt0Fvc2T9Q1vOeD/wACzVCb4fa/pcZk0LxhqXy/dt5TuB/Ngv6VnjxP8TNBJGqaCNRhXrIkQLY9cxEgflXVeGfiBpHiHZbvLHZ6gxx9kkY7s+gJAyfYV1VFFFFFFFFFFFFFFFFFFFFFFFITtUk54GeBmvIvD3i02nxRu4o3V7HW7kBmkQrIjBSFQj+EhjtII/8Ar+vUUUUUUUUUUUUUUUVj+K9HbXPDd3ZRnE5XzIGHVZFO5T+Y/WvKvDd1P4r8QjTpEKpd6l9vvUxgARoMqfYscV7bRRRRRRRRRRRRRRRRRRRXn3xK8TWcCP4engimWe0eSUv1RyCItp6Bt3OT0ANdN4NDr4P0xZLtLt1gCmZG3KccYB746Z9q26KKKKKKKKKKKKKKKK5fxvoEmsw2F0lqL9dPuPOksWbaLhcYIHbI6jPXkd6LTx74YFrGouRZssiwtayRGN4STgBl7AevQV1FFFFFFFFFFFFFFFFFFFFFFFFFFFFFFFIQGUqwBBGCD3rxW9F7Y+JP+EUg3Cfy5bC1cdoJZEcH8ELj8K9ltLWKxs4bSBdsUEaxoPQAYFTUUUUUUUUUUUUUUUUUUUUUUUUUUUUUUUUjMqKWZgqqMkk4AFcvfa74N1jSJLvVJLOWySRole5QfvCvUx55YZ7r6Gsf4faaYNf1HUNIgu7Tw5cRDyIbkkb5Mj50U87cAjJ55/L0GiiiiiiiiiiiiivKPFHiK18N/EO91GLD3TW0UeJoiNm1lLhc9mTIDDuCPevVI5EmiWWNgyOoZSO4PSn0UUUUUUUUUUUUVzHjyGSLRotatlzc6POt2uOpQcSL9CpP5VyHgdjr+s2Fuh3WWjyXF5IezSySuIx+Aya9WoooooooooooooooooooooooooooooorI8SeJLLwzpv2u7JeRzsggU/NK/oPQep7VwXirWdF8aeXpei6V9v1xwpW6i4W1PBJMgxuA5HpXpmnwz22nW0F1P8AaJ4oUSWYjHmMAAW/E81Yooooooooooooooooooqhd65pFhK0N5qtlbSL1Sa4RCPwJqv/AMJb4a/6GHS//A2P/Gj/AIS3w1/0MOl/+Bsf+NH/AAlvhr/oYdL/APA2P/Gj/hLfDX/Qw6X/AOBsf+Ncp4o0jwP4luEvE8R6dYX6OrG5gu48uAe43cn0PUe/SuuHibw+emu6af8At7j/AMacPEWhnprOnn/t6T/Gl/4SHQ/+gzYf+BKf40f8JDof/QZsP/AlP8aP+Eh0P/oM2H/gSn+NS22saXeTCG11K0nlIyEinVmP4A1coooqrdapp9i6peX1tbMwyFmmVCR68moP+Eh0P/oM2H/gSn+NH/CQ6H/0GbD/AMCU/wAaP+Eh0P8A6DNh/wCBKf40f8JDof8A0GbD/wACU/xo/wCEh0P/AKDNh/4Ep/jR/wAJDof/AEGbD/wJT/GuW8NWGiaB4m1zVm17S5E1GQPAFuEDRgkswPPqR09O1dT/AMJDof8A0GbD/wACU/xo/wCEh0P/AKDNh/4Ep/jR/wAJDof/AEGbD/wJT/Gj/hIdD/6DNh/4Ep/jR/wkOh/9Bmw/8CU/xo/4SHQ/+gzYf+BKf41ct7mC7hWe2mjnibO142DKe3UVLRRTXdY0Z3YKqjLMxwAPWs4+JdBX72t6cPrdJ/jUZ8WeG16+INLH/b5H/jTD4y8ML18Qab+F0h/rTD448LL11+x/CYGoz498Jr1160/B803/AIWD4SH/ADHbX8z/AIUn/Cw/CI/5jtv/AOPf4Uh+IvhAf8xyD/vlv8Kb/wALH8ID/mOQ/wDfD/4VxaTeBb/xdqOua9rcF+JZF+yQsj7VQKB8y7ADjoByO5yTXZRfELwZDEsUOsW8cajCqsbAAew21J/wsXwgf+Y5B/3y3+FL/wALD8In/mO2/wD49/hS/wDCwfCR/wCY7a/mf8Kevjzwo3TXrP8AF8VIvjTwu3TX9P8AxuFH9alHi3w0R/yMOl/+Bkf+NOXxV4db7uv6YfpeR/41ZtNW0y/kMdnqNrcuBuKwzK5A9cA+9XKKKKqXeq6dp7ql7f21szDIE0yoSPXk1VbxV4dX72v6YPreR/41GfGPhleviDTfwukP9ajPjbwsvXX7D8J1NMPjzwovXXrP8JM03/hP/Cf/AEHbX8z/AIVxfjaTwz4pmE8PifSkIQKEmt8kH+8JFw3pwcir/gfxLaaHp8tjrfi7Tr2JCotCkrFkXByCWUcdMda6keOfCp/5j1j+Mopf+E28Lf8AQfsP+/60f8Jt4W/6D9h/3/WlHjXwuT/yH9P/APAhakXxf4Zbp4g0z8buMf1qRfE3h9vu65pp+l3H/jV+3uILuBZ7aaOaJs7ZI2DKcHHBHvUtFFFFFFFFFFFFFFFFFRzzw20LTTypFEgyzyMFUfUmqX/CQ6H/ANBmw/8AAlP8aB4h0QnA1iwP/byn+NSLrOlN93U7Q/Sdf8aX+1tN/wCgja/9/l/xo/tbTf8AoI2v/f5f8ax5tL0e58Y23iX+0rfzre2aARh1IJJOGznqAzD8R0xzui9tD0uoT/20FNOoWS/evIB9ZV/xpp1bTR11C1/7/L/jSf2tpn/QRtf+/wAv+NMbXNIT72q2S/W4T/GrcE8NzCs0EqSxPyrxsGU/QipKKKKKKKKKKKKKKKKKKKKjnnhtoWmnlSKJBlnkYKo+pNUv+Ei0P/oM2H/gUn+NRt4o8PJ97XtNX63cY/rTf+Et8Nf9DDpf/gbH/jR/wlvhr/oYdL/8DY/8aP8AhLfDX/Qw6X/4Gx/40f8ACW+Gv+hh0v8A8DY/8a5Px3dW3iaC1sNN8aaPZ2TuReKbtMsMcHhuRxjbxyefah4Y8NeD9C1H7ZqHi3R9WKx7IlmkjHlkYwRmRugBHTvXdjxZ4a6DxDpX/gZH/jTh4p8Onpr2mH6Xkf8AjTh4k0E9Nb04/S6T/Gnf8JDof/QZsP8AwJT/ABo/4SHQ/wDoM2H/AIEp/jU1rqunX0pitNQtbiQDcUimVyB64B96t0UUVRu9b0mwlMV7qlnbSAZKTXCIR+BNUn8aeF06+INOP+7cqf5Goj478KL116z/AAkzTf8AhP8Awn/0HbX8z/hR/wALA8J/9B21/M/4Vi+JtW8AeKdPa1vtYsxIB+6uF+/EfUHHT26GreheMvDem6DY2F14ispZraBIndGOG2jGeR7VoDx74UP/ADHrP8Xp48c+FT/zH7H8ZRT18Z+GG6eINO/G5Uf1qVfFfhxvu+INMP8A2+R/41ZtdZ0q9lENpqdncSEZCRTq5P4A1doooqpdapp1jII7y/trd2GQs0yoSPXBNQ/8JDof/QZsP/AlP8aP+Eh0P/oM2H/gSn+NKNf0Vvu6vYn6XKf41Iur6Y33dRtD9J1/xpZLrT7qF4XubeSORSrL5gIIIwR1rmvAeh2vg/RprW5vbM3E07O7pKMFeijn2Gfxro21jS1+9qVoPrOv+NRnxBoq9dYsB9blP8aP+Eh0P/oM2H/gSn+NH/CQ6H/0GbD/AMCU/wAafFrmkTyrFDqtlJI5wqJcISx9AAavUUUUUUUUUUUUUUUUUUUVBd3tpYQ+deXUNtHnG+aQIufTJrMk8ZeGIzhvEGnZ/wBm5Q/yNM/4Tbwt/wBB+w/7/rTG8eeFF669Z/hJmm/8LA8J/wDQdtfzP+FH/CwPCf8A0HbX8z/hXEa/beDPE/ieXUtT8Xj7J5aLFbxycqQMNjK4VeAcDOST0ro/D+t+APDVo9rper20Ucj723zMxJxjvWuPHXhU9NesvxlAqRfGnhduniDTvxuFH9alXxX4cf7uv6YfpeR/41IPEWhkZGs6ef8At6T/ABrQR1kRXRgysMqynII9adRRRRRRRRRRRRRRXEaJa2OseOPFgv7K3uhDLbqgmiV9v7sg4yOPu10LeFPDjfe0DTD9bOP/AAqNvBvhhuvh/TvwtkH9KjPgfwsf+YBY/hCKafAfhQ/8wGz/AAjpv/CAeE/+gFa/98n/ABo/4V/4T/6AVr+R/wAaP+EA8J/9AK1/75P+NOHgPwoOmg2f4x08eCPCy9NAsPxhBqVfCPhpPu+H9M/G0jP9Kx7ixsNO+IehRWVjbWoe1ui3kRKm77nXA56V2FFFFcddw2l/8VRZ3ltDcxDRPMCTRhwG87GcHvgmttvCvhxvvaBph+tnH/hSf8Il4a/6F7S//AKP/Cj/AIRLw1/0L2l/+AUf+FH/AAiXhr/oXtL/APAKP/Cj/hEvDX/QvaX/AOAUf+FH/CJeGv8AoXtL/wDAKP8Awo/4RLw1/wBC9pf/AIBR/wCFH/CJeGv+he0v/wAAo/8ACj/hEvDX/QvaX/4BR/4UDwn4bHTw9pf/AIBx/wCFSL4b0Ffu6Jpw+lqn+FO/4R7Q/wDoDWH/AIDJ/hR/wj2h/wDQGsP/AAGT/CsT4bsP+EZlRQAI764UAdv3hP8AWusoorL8Tts8Kau/92xmP/jhqnoWhaPN4f06WXSbJ5HtImZmt0JYlBkk45NX/wDhHtD/AOgNYf8AgMn+FH/CPaH/ANAaw/8AAZP8KB4f0QdNHsB/27J/hUg0XSl+7plmPpAv+FL/AGTpv/QOtf8Avyv+FH9k6b/0D7X/AL8r/hThpmnjpY2w/wC2S/4U4WNmOlpAP+2Yp32S2/594v8AvgUfZLb/AJ94v++BR9ktv+feL/vgUfZLb/n3i/74FH2S2/594v8AvgUfZLb/AJ94v++BSGztSMG2hP1jFRtpWnN96wtj9YV/wph0TSW66XZH626f4VzVzDZ6d8TdFgtLWC2E1lcBhFGE3dDzj/drs6KKK5O4s7a/+Jjw3ltDcRJoyMEljDgMZmGcHvgVt/8ACPaH/wBAaw/8Bk/wo/4R7Q/+gNYf+Ayf4Uf8I9of/QGsP/AZP8KP+Ee0P/oDWH/gMn+FH/CPaH/0BrD/AMBk/wAKP+Ee0P8A6A1h/wCAyf4Uf8I9of8A0BrD/wABk/wpp8NaC33tE04/W1T/AAph8KeGz18P6WfrZx/4Un/CJeGv+he0v/wCj/wo/wCES8Nf9C9pf/gFH/hR/wAIl4a/6F7S/wDwCj/wpy+FfDqHK6Bpin2s4x/SsH4XTed4ZuQoARNQnVQOgGQf612dFFFFFFFFFFFFFFFFFcz8RXMfgPU3HVUQ/wDkRa0X8LeHZPv6DpjfW0jP9KgfwV4XfroGnj/dt1H8hUJ8AeE2POhWv4KR/WmH4eeET/zA7f8ANv8AGmn4ceED/wAwOH/vt/8AGgfDfweP+YHD/wB9v/jTh8O/CI/5gdv+bf404fD7wkP+YFbfkf8AGpF8C+FU6aDZfjHn+dTL4O8Mp08P6b+Nqh/mKlXwx4fT7mhaav0tIx/Ss74dtu8BaQf+mJH5Ma6Wiiiiiiiiiiiiiiiiiiiua+IjFPAmqOOqojfk61ot4Z8Pt97Q9NP1tI/8Kjbwj4abr4e0z8LOMf0ph8F+F26+H9P/AAt1H9Kb/wAIT4W/6AFh/wB+Fo/4Qnwt/wBACw/78LR/whPhb/oAWH/fhaP+EJ8Lf9ACw/78LR/whPhb/oAWH/fhaX/hCfC3/QAsP+/C0o8GeGB/zL+nfjbJ/hTx4Q8Mj/mXtM/G0j/wpw8K+HB08P6YP+3OP/CnDwzoA6aHpw/7dI/8K5p7e10/4t6dbWVrBbRtpcjMsMYQEljzgf7oruaKKK5HTbGx1Hxv4mF5Z29z5LWoTzolfbmLJxkcdq3f+Ee0P/oDWH/gMn+FH/CPaH/0BrD/AMBk/wAKP+Ee0P8A6A1h/wCAyf4Uh8OaEeui6ef+3VP8KafC/h49dC00/wDbpH/hTT4T8Nnr4f0s/wDbnH/hSf8ACJeGv+he0v8A8Ao/8KP+ES8Nf9C9pf8A4BR/4Uo8KeGx08P6WP8Atzj/AMKcPDPh8dNC00fS0j/wrGubCxsPH+hJZWVvbbra7L+TEqbv9XjOBz3rraKKK5W/s7S9+ItvDe2sNzG+kyEJNGHG5ZVwcH2Y1pt4T8Nv97w/ph/7c4/8KiPgvwu3XQNP/C3Uf0pP+EJ8Lf8AQAsP+/C0f8IT4W/6AFh/34WmnwL4VPXQbL8IhTT4B8Jn/mBWn/fJpP8AhX/hP/oBWv5H/Gj/AIQDwmP+YFa/98n/ABp48CeFV6aDZfjHmpU8G+GI+nh/Tj/vWyH+YrI8Q6Tpem6p4cNjptpau+qqC0ECoSPLfjIHTpXY0UUUUUUUUUUUUUUUUUUVyvj3yzaaMsqK8TazbK6uMhlJIII7jBNaMvg7wzN9/QNO+q2qL/IVVk+HvhKT72hWw/3cr/I1aTwppMf+rW8j/wBzUJ1/k9RN4M0V5TKyXxc9WOpXOT+PmU9vCOkvH5bNqLJ/dOqXJH5eZTE8FaFH92G7H/cQuP8A4uoJfh54UuJPMn0oTOf4pJ5WP5lqQfDnwgOmhwfizn+tPHw+8JL00K1/EE/1qdPBXheP7ugaef8AegVv51neLPD2h2Pg/V5rbRdPhkSzlKvHaopU7TyCB1rotKBXSLNT1ECD/wAdFW6KKKKKKKKKKKKKK4fwXn/hOfGZPT7TB/J67iuR1nXr+x8RRJDJM8Kq6+QukXLbz8v8YO1u5yAcAHg5q7b32qpfI6Qw3VpdSrCssty0bjap3MI/LI6hu4zxVPWdd1W2v5rS1uVRi2I0XQ7qdlTjL71IVsZ7AjoKfpOuand6jFbm6FxEH2SM2hXVvuwDnDsxVSCBkMBUkd3r9tq1zNegpYDPJtVw2MhQpFwzbjkD7nPoCan0+4ubHVYLPU9YeaW7tg8cNx5SHzAfmCbVUnA7HNV4JvEkOszSXKsLLOXIsgylVz9wLcs4JHon4Ve0rX4b++ubcJe5EuI/NsJo1VdinBZkABznqc/pWzXK60hHxH8Mydmgu1/JVP8AWuqooorhw5PxsIz00fH/AI/mu4rG8UXdzZ6bG9r5hd51Rlj37mUg5AKI7Dp1Vc/TqMW71G8W3mNne3azr0ijVnC8rnaTHKxIzhspkY5EeedO+nv5fD9hcw3728zrGZCjIrSZXkANFJlvRQBn1qn5+pSTW9ous3xlErpIIxB5wXPysy+SygDBGcoOO5PMmrXuqp4d064tbyVZnIErRpl5flPQLBL6Z4QfUVjXGua68MSwX94jxRlZ2NnKgV8kgszWTAjaV7J645rqNU1JrOaygdLl2f5swwyFZH6KhdRtXJOfmI4Fc3fatrLaheRul9cW6yMgghNwi8dhJDaFvxEn1x0rU8Qa7qGiQWkkb29tbyoqj7Uqu2/BJBaSeIcADqSTn61nR+JtbS6trIahp9zNdKJIf9Hhy4YEgALd7sdtwUjjOT1ruRnAz170tcZ8MH36BfjP3dUnH6g/1rs6KKxfGTbPBetH/pxmH5oRVnw9/wAi1pf/AF5w/wDoArRqjrF1NaWBlgkMcm4AN9ilusf8AjIb8c8ViSa3qMzILW+hEkSDz4/7Lkkc553mISB4gOgDZJ5wOBVuy1aefSxcS6nYSSi5MYkgT90ecBHwz7Cf97gkfQ8/qviG4s5ismuX0MskrkIslhFGiLKVwPOAZjhfU+9b+j6k11Y6fNFe3FylxcOrPceQzEBW4zENhGV6j86gS71C58sWWoQwNapI8puImlD5Y8YDr90Y7nG4Umu6vqWn+EkuJArXc6qJJoUEaQBiAW+eQAYz3cc88DOOaXx3qI1Bv+Jjp23yVHP2YrnJ7fbsZ/HPtXYald38mn6elu0jSXbASvaLGH27SxKbnKjp1y3HTJwayoL7XjHd27i8UKZJIGtkt2lYCTHEkkzqQM8gop9ORTPF2ralY+H7S9hvLuASW26aWIAIp2jliIJCCSePuj3qOz1nU7nQ7W/Op+TGZS6XN3EZFuOCFRQqwnB7FgMnAG7Nat9q97YXGmW11rOj2s9zhZY5oSGJwTlAZRgZAUdeT+FYv9peIXXzRNrhU28kwKLYeXwRgjI3bOe/zV3UTFoUY8kqCafXA+IZjH8YfDIH/PvKPzVxXfUUUVzcJz8S7v20iEf+RZK6Ss/Wb6606yN1b28Eyx8yedM6YHsEjcsfbFc5H4v1k3Uhk0URxZVE81bxFB7tuNrwOQOcYx+NbGrXWrwWVpIlrZrIZk88G9dVX5hwG8v5ge+QPxrn9U1fWbbWfszvqyiaUiGAS2KJICPlUMfmGSDjkMR0wRxtanqmo6bpNr5NltaVPLxLLI0yPg9Fjjm3cAnJJ981Vt9c8QXEMFx9m0wRrHI0qm5njZynDZDW+VAJ6Yz05651rq8vIo7eYxTI+ze6W8fnxue6ZwrA4zhiFHr6VzVr4x1uSW2B0sP5qu+DHdAMCRjkWx6ZAyCw65PQ1t6xq00F/aWkbvFN5D3DmO3kuFBGFAKJhmGWJxx93PasK31vW2Fu4vpWXzpGY/8ACO3rDad2Cfn5HTA7celd0h3Rqx7gH7pH6HpTq4r4Wp5fh6/T+7qc4/8AQa7WiiiiiiiiiiiiiiiiiuX+JP8AyT/Vv+ua/wDoa10kDb7eNj/EgP6Ulw06wO1tHHJMB8iSSFFJ92AJH5GuRk8X6y1xGsOjK0Ss294lvHRscY3C19ecjPTrW3bajql7o0l2tlZrIy5hUXUgBHfcWhVlI9Np/Cud1XWNatdLs7syX0Ef2UeY9nLayR7/AFJmAcnAJbgAep5rXsb+6j0Ca6nS/gcuHjlkVbtpAcYbbCXG0452hQMnGOtZmp+N8OWsb3TY0WFDi7u/I3uxGSoaMlgOh+7jJ7jjotP1S41DSzdQJY3Ehfan2O986L6l9q9O4ANZt3ryQSLGvi3QrYhfnW8iBcnJ5H75Pl9ODx3Na+j3qX9iJV1Ky1AhiGmshiPPpje2DjHerkz+XC7/AN1Sa5n4Ztu+HulH/YcflI1dTRRRRRRRRRRRRRRRRRRRXOfEEBvAerg/88M/qK6FG3IreozQ5YIxQAtj5QTgE/XtXI33ivW4pzbRaPGzxyhZXtzdTKuOSNwtSDnpxnGa2NJ1XU9TtpZ2sLWIKCqL9omDFx2ZXhQqPfB+lYd3qWuppEU+26iZJpRKdPngl43HaD56g5zgAKDkfgKveGNQv7vT5bx7a8ut8atFNNcwMs59B5b7V5OOFHA5JPAju/EV/bW0MSQPdSzTPE09v5QwwPKxI7gyEcjP+ySQelbA1CaLT7q4miLSw5It442eReBgELnce/yjHpnGTzd/qOry6dbtZzXkaFXkTYyRyzBCuWZpFcKpJYgYHGAeuKu6brF3Ho17dPLe3zqU8lZLcNKhZRwyxRqeCeflyMGo9U1mSDw+s0Gt2lhC0LCJ9QjYTXJA+8uXQqc54IJ6dK29EvHvrRpm1Ww1Jd2BLYptQcdD+8fJ/EVpVxN8uPjPpr+uksPyd/8AGu2ooorkvCr+b4v8Wyf9PUKf98x4rra5DxTqWt2uqQRWDSxQyEIuy6hjLtjJIR4JGfH+xk+3es2DVPFMFxb+fNcXJZySgnjVXAzwCbRdxwp+VW3fQdOuudYngvHtYdGvbtkUMWhltwMH2eVW7EcjtWbZ63qkqWk8ukaiEf5JNzWu1yTgEfvQQc/XPpnmta4u3lvo7G1bDqRJcOACI0/u/VvT0yfSkWaWz1Rorq4aSC6ObcuFARu8eQB25GcnrzWZe6xqcHimGxW2tfKaB2Um7kG4ZXkr5eA3BwN3PPNRaXrNjf3FvJd+LLKa4fG2xtZo4k3dgV3Fy3Yjdg/3a6iuZ1IZ+I2iH0srk/qldNRRRXLXr7fihpg/v6ZMP/H1P9K6mud8U6nrFi0KaSodnALj7MshA3qOrTIB97GMH6jrUUWuaw0UEiw2kzhJBOszNbAOMnaNom5Cqc/NjkfhX8Ta1qcRt47D7fFcG282SG0gMoViRgM/kyYHDdhnFYt/4/1GG82QXtksaoh2yxwhjlQTnfcIw6/3V/qdTXtY1oX0KWM1yitZxylLaJmG5t3XFtN6dyv49odT1bxFb3ikS3scYjiJAtzsyVG7P+jOOuc5kX8OtaHiXVL6HVI7a0utTtIvLPmTwWBeKM5HLMYnDcE8AjGOSM5Ek2tXdjr62X2ie7hbapK2Tny2xubcyrhuAMBTkbiSCBx09cv4u/5C/hj/ALCg/wDRb11FFFFFFFFFFFFFFFFFFFFcb8TXMWh6dIOq6rbkfgTXZVS1e5ltNPeWF2STICsLSS5x/wAAjwx/OuX0nWNV1LR0tkklkutqojSW01qJTnLHewY/KFYZHOT06Z1bzVdTPhy6u2gjtbmOby0FvK02cOFOD5WeeeiMfY9KzTqFz9nbybq6gnEY2wKZJMHZnGXRpN/fBj6HOw/fFwahev4Vsria+nt5pJQs06xr5gAZs8NGBnA7oD7CuWu9b1yJhPaavqszGFC++3G1N7fKMJauuQODnBzwM4xXWSXl7F4Wtp57u9inkkRZJY7fzJgC3ZDCuTj/AKZj+tZianK2ozQHX/EvlJEjLjRhuyS2cj7L04GOPWuo0WeS50e1mlkeV3jBLyJsZvcjAwfbA+lZ/jhtvgjWT/06OP0rWsGDadbMOhiU/oKsUUUUUUUUUUUUUUVxng5NnjTxifW6h/8AQWP9a7OuL1rSlv8AxFbQNb6NFcCUzpNcM11OyKCRlDsZEDdg5GeMc1oWkka6slzhk092HkyCLZG020JkdwpHCk8EnqcrnI12w/tHUrsf2JBqPl7mZpNWuDFFhTgtGYzGCM/cGSM5xg5qzpC3FhqdpC+h22mRMAqNBqMwgkyOSI1jEZc56NhjjjOM1Vieyk1O5eeOx0/zzPG13FpslrJHgkA/atwViSBkLgnNauheTDqa+ZLfWzvDtSG7urh1uGPJZBKT0C9OGAJJAGM0tLkgPiVZ10/T45ZbmWMyR6LJE4xu5+0k7WJ28465PpXTaf8A8fWof9fI/wDRaVerm9bIHjbwx6k3YH/foH+ldJRRRXBREn44Te2lf1Fd7WL4j0l9WhhRNPs73Zuwt3IFVCRjcAYpASPcfnXEaZ4Wu7vV5Xt7bw9fWdqQkkI+zHMncGRLT06rgEetdTqkV1o/hm2W0gS1uY5diLa/vfLVmJKofJY46dIzwPxrlnk1aDTbi2Rb0WzqxaA2jmI8c/KdOC49RwK6zWNJutY0OxtLazs3hCI58yVYwpC8AI0MiEcnsMcYrmLTwPfNcXIFhpxMUwBxJbqR8qngiyyOvUbfz5PS6yJ7i5tUuGmRxDiW3t7hPLJc7QNzR7snBAYbSOfWuY1Ow869+0y6Tp12HIkMt84VgpdSAf3bcYI5z/EePXoL+Ca+0TT7KHzbaWO1WZLmOVwVAXkBY3RiMcckDkYz2y3SXTrqJ31uJ51bMEVwbpxK4UMFCtdsCSGGPlNegjOOetLXCfCTJ8Oai5/j1SYj/vlK7uiisTxoM+CtZH/TlL/6Cas+HCG8M6UR0NlCf/HBWlVHWry1sdIuZbu5it4zGyh5XCDJBwMnvXkkQ06TSTfJBavaouGuFsVKAjrlv7Ox+v416PZalaT+E7E21zBMjxxxO6FZFXC5fPUcKDwazry0j8qFp2uLO4lkREaO7kt2mZ5N5RVRhu2qxycHvjGDWvDp10lpaxWirbyW1w5drh3lzkMNwLEls7geW/His2QS3Gm29rZ+bcXEPmLcuqjIiYncM8DeRggD64xV3XriC90uGOHUre3jlPEbwSyTOy84RY5EkDKRyBkjHbFc9/YOqx3M0739ySkabwv2x3RTuP3Vu9x6dBuPPA61qapAr6Tpgm1GxuFiY7Em0+a7adxkDahlL5XnOSSCMkjFQ3+j38Vhvu/sVxBMipJEdImuPJUDg+X9obGDjO0E55PrUurz2VppOnfaNb0mM+QEU3UTESqcLuRPOXbweTkkAnmsC98QRG/mRr7Qb+NDhXSOExEkZJCSXigN8xBYDn17V18Uk89rpRsmjuREBLJdFz5IUqy5DbmLHk8Bj05YcE8lLd6X/ae2O90nyPKcBf8AhLbhUwWHHC4H+6OPyr0iB45LeN4mRo2UFWRtykY7HuKkrz3xMv8AxeDww3rA4/R/8a9Cooorl7Vs/E+/HppUP/oxq6isHxld2dv4buobq7toGuE2Ri4lVA5yOPmBB/I/Q1wLWulW5Wf+0fDf7t1b91e2ZfgjoFtFOfow+orv9Vm0zUotNkW9hnjlukMCJOCk5DDPAPz4AJxyB16gEchqUurLqtzDbC8a1S4lUhIHkUjGOT9kk3Z6HLN+Hbevkkm0fRoIY1fZF9pmZ72S1WJAhGTIgJXluABjAI4AqKylt4PDf22e8tYoSl1EjNeGUSM7fKFkbBfO08nk1s6ha6jNJavbWsFzFEgPlz3rQqH7HasbbvxOB6Z5rjbXwPfyzSOtlp+6CRkUmW3yOh5JsiWP+0ef69XqsWyWx+0MySfZ5BIYWG6RsINu4AZyeOAOvGK4i48Kz6XMDc2+mQlI4tuJIMlixAC/6KCWOOAGDf7Rr1iiuQ+G6bNG1Ieuq3P/AKEB/Suvooooooooooooooooorl/iT/yT/Vv+ua/+hrXSQDbBGPRQP0pLi5gs7d7i6njghQZeSVwqqPcngV5PHa6Vc75zqPhv95I7fvr2zD8seoa0Y/mx+tdpot7pU3gvyBqtqI7aEpcPbXSARDJ43Lt2g9iAvtisTXVvbWOzg0tLhN+nR7kt4mfHPTiCXaOOnyAnnk1p6SjXHhzUFuprqCee4K/u0CyO2AcbWhQEnJyTGMjrkDNZmtawsMnktrE8czW8KyKk1lASykk70n2sp7jAArodLvIdd8PXGL65uFjZg7vPbszcZ2k25Kgc9OD68Hm7PqNjp3h+F768t7VHgCq08qoGbZ0GTyavWAI062BGCIk/kKdd/8AHnP/ANc2/lXM/C8EfDvSs+kv/o166yiiiiiiiiiiiiiiiiiiiud+IH/Iiav/ANe5/mK3LQ5s4Sf+ea/yqR5EijaSR1RFGWZjgAepNeWX66RqWr392up+HmSS4JVri9tAzDA5+e2kOP8AgR/Cup8G3Wmro9xp8OpWBkieR2FncRMEU/xDYiDHvsA/nWXqQe10nTX0dpW803BV4N0xdcnDZ8qYkkHlsZOeWq94QhubtL6O+NzHK0MSMzKYnIwR3hiJ4GAcMRzhqyrzSbPUotPhDxTfY02CxtraGa5I3EgkyIwReMYbCnuR0OrpNnYWXh+9gt7kRXjj95HbxRW80YY4RWQRqMnpuKdzjiq9zEBEZryWfZCw8y6luzFtHmCMn9z5QAAU9Rj5QfWrlosE+kXENjPc7bqaJPtkF2ZvOJwG2vL5mVAB/DI96hT7Mi232v8AthYpy0j/AGaSctI+xPmxAFIHUEABQR0Ga3vDrxvYzeS120SzsI/tZlMgHHB835/XrWtXH3yZ+LemP6aXL/6F/wDXrsKKKK5HwcP+Kk8WH/qIL/6BXXVyXia0u5r66mtbx4Ps9qszKZ7oBzlhgCOZFX7voaz10u6sLyOC917zSJoolQ3V5HJPuxnbm5IyAc/dPTpXTalcwxXCTPFHCtmcvfXTeXHEpxkAkgtkEf7PqcjFUNIiNnFbXrRTX1vKN0UiHzDbbs5wvdTn7ygnnH3RkWda0/S9Ub+zW061urhyWZngVxAG6uSRwxA47n6AkQ6XYeHW1iUaPa6b5cMOyf7LHHjfvBAbb3G0nB6U/VLVI7tycyzTwSlfXfujCAfTj9TV6CIW+qQQg5Edntz9GArSrnL4Z+Iek+1hc/8AoUddHRRRXK3y7vijpZ/u6bMf/HlH9a6quQ8dWNxd/Z5ItKjvVjwpM1rFMikuvTfKhB4xwCCDjiktILv7HZ+VZMsOl7vNgESoJSxIdFUMwwqk8BjzgZ4NM8arDqNtbzxxxTxQwNJvkMYRd2Apy6scnBxtw2cDI5rF1/WUg125hXUgm11AUakyqCR0OL2PZznIEfHvW9rVvHfJdxwtZTo9nB5YuoftSykmTaF+cZYnGGyfWqKaPHoT3zzNoduWhSEeRp4t3kZgcKreYeSR0wc1qeLUja4t92swW7+WQlhJLIpujkcBUlTdnpyGHPSqItJTqiia7lvdKS7MzStBFJCjZJCnMZbIOBvDkDBzt4FdvXL+Lv8AkL+GP+woP/Rb11FFFFFFFFFFFFFFFFFFFFcV8VR/xS1u39y/hP6mu1rO1uIy6a+be2uEX5pI7q5aGIrjncQrZGOxGD3rmNH09LTSXa1XT2mv5TPaRWNrtwVfIJfdtMeFXkBR06kjOtLZLqmgxWqWdveywy7p7e9byx5nJbcNjjq2Rxg8EHHXjovCd7ca2ba1i0GVLVc3UP8AorsCTwpYWY2HjoVzjuK7CK0/sqxt4m0+2tFW5ac29o++NQFJ+X5Exk44x1NYWs2Gg3d7Fa6xdw2MsESR7JZLZ5CMbgVEkRYjJK/L1x0PbeSzH9k6fpVrPLbuJcl4kiVogmSSFCBOuB9z+IcVWksprPVr2a68V31vFHbRF55RaqACz8EmLAH+Nbeg4/sKzxKZR5YxIcfP78cc9eOKzfH5x4E1f/r3P8xWtpP/ACB7L/r3j/8AQRVyiiiiiiiiiiiiiiuT8MJs8a+Lh/03tz+cWa6yiiiiiiiiiuX8Qf8AI8+E/wDrpd/+iTXUUUUVwoXb8bWP97SM/wDj+P6V3VFFFFFFFFFFFFcV8KYzH4UnyOWv5j+oH9K7WiisfxeM+DdaH/ThP/6Aad4UJPg/RSep0+D/ANFrWtRRRRRRRRRRRRRRRRXDeIIPN+LPhc9lgnY/grV3NFFFcnbEj4sXq+ukRn/yIa6yiiiiiiiiiiiiuY8ArjRLt/8AnpqV03/kQj+ldPRRRRRRRRRRRRRRRRRXMfEgE+ANVA6mNP8A0Na6YDAA9KWiiiiiiiiobv8A485/+ubfyrnfhsu34f6SP+mbH83auoooooooooooooooooooornfiB/yImr/APXuf5it21BW0hB6iNR+lS0UUUUUUUUUUVy12o/4Whpx7/2XN/6GtdTRRRXJeDxjxJ4rB6/2gp/8cFdbRRRRRRRRRXN6l8vxC0Q/3rO6H6xmukooormZxu+J9oP7mkSt+cqCumooooooooormPFy/wDE08Mt6aqo/wDIb109FFFFFFFFFFFFFFFFFFFch8TF3+GYE/vX8A/8err6KKKKKKKKK534gf8AIiav/wBe5/mK1NEfzNB09/71rEf/AB0VeoooooooooooooorjxcXmg+LtcujoepXsGoeQ0UlpGjj5I9pzlhjmrv/AAl8o6+FvEH/AICp/wDF0n/CYuOvhfxD/wCAa/8AxdNPjTHXwx4i/wDADP8A7NSHxuo6+GvEf/guY/1pP+E5T/oWfEn/AILG/wAab/wnaf8AQr+Jf/BY3+NJ/wAJ4v8A0Kvif/wWn/Gk/wCE9H/Qp+KP/Baf/iqUeO2PTwl4m/GwA/8AZqkXxpI3Twl4j/GzQf8As9Vhc3ev+L9Fu/7E1Kxg09bhpJLyNUBLoFUDDH3rsKKKK43V4rvTviHFrkek31/B/Zf2b/REViH8wtzuYdqtt4uvx9zwhrZ+qRj/ANnqvJ401dfu+CdXb/vn+mart4714H5fAeqn6n/7GmHx74i7eANT/wC+z/8AEUxviB4kX/mn2pn/AIG3/wAbqJviL4kX/mneqH/gT/8AxqmH4l+IF+98PtUX8ZP/AI1TT8UtYX73gTUl/wCBP/8AG6afixfr9/wZqC/8Db/4inJ8WLt/+ZO1I/7pJ/8AZKsL8ULo/e8G6yPpGT/Spk+JcjnB8Ia9n/Zts1bg8eyzHA8H+JB7myAH5lhVnwFY3Nh4a2XdtJbSy3M0vlSABlDOSMge1dLRRVDXbZ73QNRtIk3yT2ssar/eJQgD9a5vSfElzpWh2FhL4U19ntbaOFilshBKqAcfP04p8vxBMX3/AAj4lA9TY8f+hVCfiZH28K+If/AP/wCvTG+JyL18K6+Pra4/rUZ+KsC/e8M62Prbj/Gk/wCFsW3/AELes/8Afgf40f8AC2Lb/oW9Z/78D/Gj/hbFt/0Les/9+B/jQPivbnp4b1o/9sB/jTx8Uo26eF9cP0tx/jTh8Tc9PCevn6Wv/wBenj4kSHp4P8Qn6WlOHxDuD08GeIz/ANuRp48fXbdPBfiL8bTH9aePHN6f+ZM1/wD8Bx/jSjxxed/Buv8A/gOv+NPXxpdt/wAyfr4/7d0/+KqYeLro/wDMpa8P+2MX/wAXVO3a71vxxp2pNouoWMFlazKz3aIuWYqABtY+9dhRRRXJ6obzS/HI1eLSL2/gl0wW2bVVJVxIW53MOxqceKtSPTwfq/4+UP8A2esvVvifb6G4j1LQ763kbpG0kJb/AL5Dk4q5pnjXUNUsUu4fCOq7Hzg7owCPUbmBI/Crf/CS6r/0KGqf9/IP/i6P+El1X/oUNU/7+Qf/ABdH/CS6r/0KGqf9/IP/AIukPifVB18Iar+Dwn/2emHxZqS9fB+sfh5R/wDZ6b/wl2o/9CdrX/fMf/xVH/CXaj/0J2tf98x//FVUs/iINQlkisvD2oXLxffWF4XK/XD1cXxdf/xeENbH0SM/+z1IPFlxjnwpr3/fmL/45TvA9pd2fhsJe20ltLJczy+VJjcA0jEZx7GuhooooooooooooooooorC8a2dxf8AhK+trSBp5nCFY06th1Jx+ANVJfGksSlm8J+IcAZJ+zJgfk9Zdt8WLC+neCy0DWrqWP76QwK5X67WNSv8SmTg+EfEA/3rTH9ajPxOk7eEdcP1t6YfifcdvB2tf9+T/hR/ws65/wChN1r/AL9H/ClHxLvD08F62f8Atif8KcPiRfnp4I10/wDbBv8ACnr8Q9RY/wDIj6/+Fs3+FQzfFWC1nMN34c1W3kBAZZFVdpPTOSMZ7ZrWHi25uYCD4T13ZIuMrFGeCP8Afq34JsrjTvB2mWd3E0M8UOHjbqpyTW7RRRRRRRRRRRRRRRRRRRWF41tLm/8AB+o2lpC800sYVY0+83zDOPwzVV/F92gwnhDXTj1hjH/s5qvJ431Rfu+Ctab6oo/lmsxPijez3ktna+EL6e5hGZIUlBdPqApIpX+IniVT8vw81M/8Cf8A+N1E3xI8TD/mnmpj6+Z/8aqNviZ4lH/Mg34+vmf/ABumH4oeJOn/AAg14Pr5n/xFKvxN8Tn/AJkS9P0En/xFSL8SfFB/5p/qB+gl/wDjdSL8RfFB/wCaeal+cg/9p1IvxC8TEZPw81L/AL+P/wDG6r2HxdbUbo2sHhm7kuAcGGOdS+R14IBrcj8Z6i33/Bmtr9EQ/wAyKjsZr7V/HVrqTaLf2FvBYSRM12irli6kAYY+ldhRRRXFw3F34d8Va9MdD1O+t76WGSKS0iVhxGA2csO9XT41kBx/wiXiP/wDT/4uk/4TV/8AoU/Eg/7cl/8Ai6X/AITcD73hjxGP+4eT/I0f8JzAPveH/EK/XTHo/wCE8sR97SdbX66bJ/hTD8QtLX72n6wPrp8n+FMPxI0YdbTVR/24vSH4k6L/AM+eqn/txej/AIWPpp+5pGtv/u2Df409fH1u/wBzw74ib/d05j/Wo4L2513xjpV6mi6nZQWkFwskl5AIwS4Tbjk/3TXX0UUVyurz3eleNE1RdIv7+3bTvIzZxq5VvM3cgsO1UZ/ippdrdPaz6LrUc6LueMwR7kHqR5nA9zVyPx8skayJ4W8SNG4DK6WIYMD0IIY5FSDxzHj/AJFnxIP+4Y3+NH/Ccx/9C14k/wDBY/8AjR/wnMf/AELXiT/wWP8A40f8JzH/ANC14k/8Fj/40f8ACcr28MeJD/3DWH8zSf8ACbsenhPxKf8AtxA/m9KfGzgE/wDCJeJOP+nJf/i6qWXxLstRmkgs9B1yaaI4kjS3j3J9R5mRRf6jea/qWipF4e1e1W11BJ5JbqFFUIEdT0cnqw7V2dFFFFFFFFFFFFFFFFFFFc145trm50qy+zWc92IdQgmligUFyinJwCR6etV7jxzcQKznwjrwVRks0CgAfXcazbL4qjVJZItN8M6lePEMuIdrbfrjNXP+E61b/oR9a/74/wDrUf8ACdat/wBCPrX/AHx/9aj/AITrVv8AoR9a/wC+P/rU9fHGpt18Fa2P+2YqZfGOoN/zJ2tj/gCf/FU7/hLtR/6E7Wv++Y//AIqj/hLtR/6E7Wv++Y//AIqs3/haNsNQOnnQtRFyG2GMtFnd/dzuxng8dad4j1m/1vw3f6bH4V1qOW5hKIzRx7Q3bPz9K63SYWttHsoHUq0VvGjA9iFAq3RRRRRRRRRRRRRRRRRRRRRRRRRRRRRRRRRRRRRRRRRRRRRRRRRRRRRRRRRRRRRRRRRRRRRRRRWbrXiDS/D1p9q1S7SBP4VPLOfRR1NcK/iXxd46kMPhe0bS9Mzta/n4Zh7Ht9FyfcVt+HPhro+iyC8vC2qagTua4uRkBvUKf5nJrsaKKKKKKK5LXPh1pOoz/btNZ9H1JeVubP5AT7qMA/UYPvWQviPxf4Nby/E2nnVdOU4GoWgyyj1Yf44+prsNE8R6R4it/P0u9jnAGWTOHT6qeRWpRRRRRRRRRRRRRRRRRRWBqXi21t7hrHTIJNX1Edba1wQn++/3UH159qyn8Ka34mfzPFWp+TaE5GmWDFU+jv1b/OK6nTdKsNHtFtdOtIraFf4Y1xn3Pqfc1boooooorK1fw3pmtZe4iaO4KFPtMDeXKFPUbh1Hscj2rkrTw54v8FH/AIkV6mtaYOTY3LbJFH+wen8vpXT6J4qsNakNqVlstQQZksbpdkq+4B+8PcVt0UUUUUUUUUUUUUUUUUUU13WNC7sFVRkknAArk9R+IenpdGw0K2m1y/6eXaDKL/vP0x9M1CmgeKfEZ3+I9U/s60P/ADD9ObaSPR5Ov4D9K6bStG03Q7X7NptnHbR9SEHLH1J6k/Wr1FFFFFFFc54k8C6L4l/fXEJt7wfcu4PlkB7Z9fxrl2u/HPgM/wClJ/wkWkJ/y1GfNjX36kfjke4rq/DfjbQ/FEYFjdBbjGWtpflkH4d/qM10FFFFFFFFFFFFFFFFFFFYmveLdI8PYjupjLdP/q7SAb5XPbCjp+NcvcL4+8Y5SNF8M6a/98k3Dj3xyPp8v41p6H8M9D0mApcNPqTO4kcXMh8tnH8Xljgn65rrkRY0VEUKqjCqowAPSnUUUUUUVk6t4a0vWZFnuIDHdx/6u7gYxzJ9GHP4HIrLlufFHhwZmh/4SCwX/lpEAl0g91+6/wCGDWronibSfEMTNp90HkT/AFkLjbJGf9pTyK1aKKKKKKKKKKKKKKKKKQkKCzEADkk9q43WviRp9rdHTdDt5Nb1I8CK2GUU+7D+n5is1fB3ibxdItx4v1M2toTuXTbM4A9mPT+Z9xXa6PoWl6BafZdLs47aM43bR8zkd2PUn61oUUUUUUVz2ueCNF1xbhnie0uLhdss9q2xpB/tjo/ODyD0FYVpaeNfBpEcbf8ACSaUvRM7bmMe2ev0yfwrqNF8TaVrystncbZ0/wBZbTDZNGf9pDz/AErWooooooooooooooooooooooooooooooooooooooooooooooooooooooooooooooooooooooorgPEXxHlbUm0LwlZnUtSyVaUDMcZHXHrj1OAPem6H8NWuLv8Atfxjdtqt+3Pks2Y09j6/TgfWu/jjSKNY40VEUYVVGAB7CnUUUUUUUUUUhAIweQa4/Xvhxpuo3H9o6TK+jamp3LPa/KpPuox+Yx+NZNv4z8Q+ELpLHxpZGa0J2x6nbrkH0zjr+h9jXoNpd299ax3VpMk0Eq7kkQ5DCpqKKKKKKKKKKKKKKy9d8Q6d4etFnvpTukbbFDGN0kreir3rEGmeIvFXz6xM2j6Y3IsLZ/30g7eZJ291FdJpul2OkWi2mnWsdtAvRI1x+J9T7mrdFFFFFFFFFFZeueHNM8Q26xahb7njOYpkO2SI+qsOR/KuRudS8V+AiXvw/iDRF/5eRxPAP9r1+p/MV12heJNK8SWf2nTLpZQPvxnh0P8AtL1H8q1KKKKKKKKKKKKKKKKK4jXfiZZ2l7/Zeg2r6zqRbaEhzsU+5HX8PzFV7fwfr/ijbc+M9TeOA8rplm2xB7MR1/X612em6Vp+j2otdOtIrWEfwxrjPuT3P1q5RRRRRRRRRRRXJeIvhzouuubqBW03UAdy3Nt8vzepXofrwfeufi8V+J/At0ln4tt21DTmO2PUIRlhz3Pf6HB9zXoWmapZaxYx32n3CXFvJ911P6H0PtVuiiiiiiiiiiiiiisTxJ4t0jwrbLLqM5Ejg+VBGN0kn0Hp7niuetZfGHjQ+Y27w3pDdNvN1MvsT9368fjXU6R4d0rQ0IsLNElYfPO3zSye7OeTWnRRRRRRRRRRRWBrvg7TNblF3h7LUU5jvrU7JVPbJH3h9awP+Eo1/wAGzrbeLYPtunEhU1a2Tp6B19f88129neW2oWkd3ZzpPBKu5JEOQwqeiiiiiiiiiiiiiisXxF4p07w3Ahui8tzNkQWsI3SzH2H9a5k6D4p8bkSeIrhtH0onK6dbN+8cf7bf4/kK6/RtA0rw/ai20uzjt0/iYDLP7sx5NaNFFFFFFFFFFY2veFtL8QKrXUTRXUf+qu4G2TRH2YfyNcu+s+LPBV3HBrCLrOkyPsjvgwjkj9N5Pyj6sQP9quy0nWrHWoGks5CWTAkikUpJESMgMp5HFX6KKKKKKKKKKKKKKKKKKKKKKKKKKKKKKKKKKKKKKKKKKKKKKKKKKKKKKKKKKKKKKKKKKKK5P4majdaZ4GvZrNzHJIViLr1VWODj044/Grfgvw5pvh7QoY7HyZpZFBnuYyG81+/PoDkAV0NFFFFFFFFFFFFFRXFvBd2729zCk0Mgw8bqGVh7g1x2i2a+EvHDaHaSP/ZeqQPcwQE5EEqkbgPYj+ldtRRRRRRRRRRRRRRXHeFo7fWtd1LX71o5rtbmS2s0Y5MEMbbcqPcnJPvXY0UUUUUUUUUUUUUjKrqVYBlIwQRwRXm3inSY/Ces2uq6QBbrtlljQfdQxq0kkeP7jqG47OARjJru9E1D+1tCsdRKhTdW6SkDsSASPzq/RRRRRRRRRRRRRRXHfEbWJbDTrLToA5bVLjyGCNtZlx93PYMSqkjkAnHNa/hvw3a6BZrhUkvZEUXNztwXIAGB/dQYAVRwABW1RRRRRRRRRRRRRRUVzbQXlu9vcwpNDINrxuoKsPQivOdCtF8IfE7+x9MuQ+laqkjLAH3+TIilip9CMfXBGelel0UUUUUUUUUUUUUV5r4B0xfE+s6n4t1hRcTrdtBaxvysAXngHjjcAPoT1NelUUUUUUUUUUUUUUUyWGKeJopo0kjcYZHUEMPQg1xXh2y/4Rn4g6hoFmCumXloL+KEciJ9wRvzx/Ku4oooooooooooooqOeUQQSTMCRGpYgdeBmuW8E6fHewHxVfbJ9U1MeZu6/Z4j92NPQAde5711tFFFFFFFFFFFFFNkjSWNo5EV0YYZWGQR6EV5lqtivgnxxpM1huS1v5lijUc7VLBXi91+YMuehBAr0+iiiiiiiiiiiiiiiiiiiiiiiiiiiiiiiiiiiiiiiiiiiiiiiiiiiiiiiiiiiiiiiiiiiiuS+IPh3VNe0Z10u4JcRlZLNz+7nGQRj0cEAg/gai+Fl09z4LSOVSstvczRuhGCp3FsY/4FXZUUUUUUUUUUUUUUV43Z6trt98WZLW2H2h7O9uEjaYsywRM+GPXoFGAPU17JRRRRRRRRRRRRRVe+tnvLGe2juJLZ5YyizRHDRkjqPcV5R8OTdad8R7/Sb+QPLDHcqG6BiZI2JA9Dtzj3r1+iiiiiiiiiiiiiivK/i9qLjVNKsrVPNmEcqvGOSRMpjAA9cB8fhXV/D2w1ay8NwnVZiC6IILbaB5EargA/7R6n+ldTRRRRRRRRRRRRRRXl3xXvtQ02/wBOu5IY2treZZrOUDlZV+8rfX5WB/2TXoeiPcSaDp8l1J5tw1rGZZP7z7Rk/iavUUUUUUUUUUUUUUUV5A3h6bWPi/eaaZXSzs52vZWRiDiRIyVB9zgfTNev0UUUUUUUUUUUUVBfJdSWM6WUyQ3LIRFI67lVscEjuK8u+Hd1eQfEPUdNvEe1xDPKbYsdqys0RbA9PlJB9DXrFFFFFFFFFFFFFFFFeReCLnXtW8YXVxaAeVDM0VxdzfMBF5zSFF9WbIHsF9xXrtFFFFFFFFFFFFFZ2v2V9qGjXFtpt4LW6Zf3bsoKt/st3wehI5Gfwrzn4MXEi3+s2N0SLiOOFNrHkBC4I/DcBXq9FFFFFFFFFFFFFFeReLbzVrv4rQ6faIbs2jwzWtu5OxZAmcn0XJy3steswed9nj+0FDNsHmGMELuxzjPOM1JRRRRRRRRRRRRRRRRRRRRRRRRRRRRRRRRRRRRRRRRRRRRRRRRRRRRRRRRRRRRRRWLruvXGl31hY2em/b7m+8wpH54iwEAJ5Ix0P6VVOueKB/zJzH6alFTG17xUOngpz/3E4aibxF4yH3fAZP11aEf0pP8AhIvGn/Qhf+VeH/Cj/hIvGn/Qhf8AlXh/wqC21bxZZiUW3w9WPzpWlkxq8PzO3U9KkbxD45/h8CoPrqsRpn/CQePf+hHi/wDBnF/jTl1/x3/F4Ji/8GcQqZde8Z458EJ/4No//iaZd+LPEGl2hvNT8JrbWyuivIupI+3cwUHAXPVhXXUUUVj+JNdbQbS2ljtPtct1dJbRx+aI8s2cckHuMfjVB9d8XD7ngtW+uqxj/wBlqu+v+OP4PBMX46pGf6Cojr/xA7eCYP8AwYxf40w698RO3gy2H1v4/wD4qmHXfiT28H2Y+t5H/wDF1maePHmlXV5dWPgfT4pr6Uy3Ehu1ZnY8nky8DJPA45q//bfxQ/6FKw/8CU/+OUo1z4nd/CVgfpdJ/wDHKeuu/Ej+LwdaH6XsY/8AZ6mTXviB/H4Mt/8AwYxj+pqSfxR4qsLGe8v/AAckcFvG0sjrqcZwqjJ4x7V1Nlci9sLe6VdoniWQDOcZGf61PRRWdr2rLoWi3GpNCZhAF+TdtzlgOvPrWYdb8UD/AJk8n6alFUT6/wCLh9zwQW+uqQj+lRHxH4zH/MhH8NXh/wAKYfFHjIdfAL/hqkf/AMTTf+Er8Yf9CBL/AODJP/iarW+r6/b389/H8N2jurg/vZRfxlm4A67ePur09BV4eKvFPfwJcj6X0f8AhS/8JT4n/wChFuv/AANjpR4n8UN08DXP430Qp6+IfFTf8yPMPrqUIqVdc8Unr4NZfrqUVafh/V117QrTVEhMK3KbhGW3beSMZ/CtGiiq2pXi6dpl1fMm9baF5SucZCqTjP4Vz0HibxHdWkN1beD2mhnRZI2XUYhuUjIPOOxpG8S+KV6+Brj8NQhNN/4SnxP/ANCLdf8AgbHSf8JV4n7eBbr/AMDY6afFfiz+HwFcH638Y/pVSfVfEV7dwXVx8NUlntm3QyyahFuQ89CV9/61cHiTxmengE/jq0Q/pSN4h8cfw+BFH11WI0z/AISDx7n/AJEiIf8AcTi/xqRNd8dE/N4MgH/cTjqddb8Yfx+DYvw1VP8A4mruga9dateahZ3umCwnsGjV0+0CXJZd3UADoR+Z9K26KKK5Ox8U+INVs0vNO8LRzW8hYI76kqZwSp4256g1IdV8aN93wxYr/vajn+S0n9oeOW6aDpaf716x/ktL9r8d/wDQK0b/AMC5P/iaPtfjv/oFaL/4Fyf/ABNH2vx3/wBArRv/AALk/wDiayvEWneL/EmkyaZf6LpZhdgwaK8YMpByCCV/D8TV23uvHNrbx28Xh3S1iiQIii9PCgYA5FTDUvHPfw7px+l8f/iaX+1PGw6+GbFvpqP/ANjR/bPjQf8AMo2zfTU1H/stA1zxj38GQ/8Ag2T/AOJpw1zxfnnwZEB7atH/APE0y68V6xpogl1Pwyba3lnjhMi3yPtLsFBwBz1rqqKKKyfEOtSaJbWzw2f2ua6uVto4vMEeWYEjkg+lZ7a74pXp4LdvpqUNJ/wkPicfe8E3A/3dQgP9aRvE3iBR/wAiXe59rqH/ABph8U+JP4fA94frdxCm/wDCU+J/+hFuv/A2OoV17X0vJLxfh/OLiVFjeQXkW5lUkgfqam/4SnxP/wBCLdf+BsdKPE/ig9PA1z+N/EKQ+JPF5+74DkP11SIf0pU8QeM26+BVT/e1eL+i0XfifxLp9jPe3nhFY4LeNpJGXU42woGTxt5rprSf7VZwXG3b5savtznGRnFTUUVna9qw0PRp9RMJm8naBGG27izBRzg+tZh1vxQP+ZPJ+mpRU0694qH/ADJUh+mpQ1E/iPxcv3fAsh+upw//AF6gbxR4zH/Mgv8A+DOM/wDstRnxX417eA3/APA9P8KotqfihtXXV/8AhXafbli8kTm9XITOcf8A1+tW/wDhKfHP/Qjf+Tq0f8JT45/6Eb/ydWlHirxznnwL/wCTq1NH4m8aN18BH/wZxr/MVaj1/wAWsMyeCfLHvqkR/pWvoGrLruh2mqLCYRcpvEZbdt5I6/hWjRRRWNruuXOl3djZ2Wm/b7m98zYnniIDYATyQex/SqEmu+L1HyeC0f8A7isY/wDZart4h8cfw+BUH11WI0z/AISDx7/0I8X/AIM4v8aP+Eg8e/8AQjxf+DOL/Gj/AISDx7/0I8X/AIM4v8arabe+L9Ktvs1j4AtraHez7E1KIDLHJPWr66743P3vBcP/AINI/wDCpRrnjHHPgyL/AMGyf/E0o1zxhnnwZF/4Nk/+IqRda8U4+bwgAfbUoz/SqupeLNc0iya8vvC4hgVlUudQQgFmCjgAnqR2rraKKKyvEGtPolrbSRWhu5rq5S3ii8wJlmBxyQfSs2TXvFaj5PBZf/uJwiq7eJPGi/8AMhH/AMGsR/pULeKfGo/5kNv/AAYIf6Uw+KvHHbwKf/A5f8KT/hKfHP8A0I3/AJOrVKx1HxTps889p8O445rh2eWX7YpdizFjyecZJOOgzV9fFHjk/wDMi/8Ak8gqVfEvjc9fAg/8GcY/pUg8ReNe/gP/AMq8P+FSJ4g8YMfm8DFf+4tCf6UXnibxFp9hPe3XhLy4beNpZCNSjOFUZPGOeldJZ3Au7KC5C7RNGsm3OcZGcVNRRWT4h1uTRLa1eGz+1zXVyttFF5ojyzAkckH0rOOt+L8/L4NjI99VjH/stOXWfFx6+ELdfrqy/wDxFO/tbxb/ANCra/8Ag1H/AMbpjaz4vHTwfA301Zf/AIimHXfGI/5kqM/TVo//AIms6GTxFa61dazF8P0+23aLHLL/AGxGcheBjI46DOOuBV0+IvGn/Qh5/wC4vD/hQPEXjPv4C/8AKvD/AIU9fEPi7+LwM4+mqQGpBr3io9fBUg+upQ1HeeJ/ENhYz3t14RMcFvG0sjf2jEcKoyeAPauktJ/tVnBcbdvmxq+3OcZGcVNRRRRRRRRRRRRRRRRRRRRRRRRRRRRRRRRRRRRRRRRRRRRRRRRRRRRRRRRRXL6t8/xF8PKf+WdtduPxCCuoqOaaO3iMkrbUBAJxnqcUSTRxPGrtgyttQY6nBP8AIGlkljhjMkrrGi9WY4A/GkWeFpmhWZDKv3kDDcOnUfiPzoknhiOJJUQ7S+GYD5R1P0GRVex1fTNTDnT9RtbsR/f8iZZNv1weKmN1CBCfMBE5xGw5DcZ6jjoKLm7hs0V52Kh22rhSxJwTjAHoDUiOsiK6MGVhkEHIIrmPiQwHge8B7ywAf9/krqaKKK4v4lPttdAUHBbW7c/lurtKjnnitkDzNtUsFzg4yTgfTmqV34g0SwuDb3msWFtMvWOa5RGH4E5q5FcQT263EM0ckLruWRGBVl9QRxiqM3ibQLdgs2uadExUMA93GCQeQeT0NXTdQBYWEiss5AjZeQ2QSMEewpGvLdJ/IaTEmVGMHq2cfyNPmnit1VpW2h3CLwTkk4A4rMl8WeHIbj7PLr2nJIMgqbpPlI6g88H2Nakckc0SyxOskbgMrKchge4NY3jb/kSdZ/685P8A0E1b8Pf8i1pf/XnD/wCgCtGiiuY+JBK+ANVI6iNP/Q1rpVYOgYdCM1De6hZabD599eQWsRO3fPIEXPpkmqH/AAlvhr/oYdL/APA2P/Gr9lqFlqUPn2N5BdRA7d8Egdc+mQaU3tqs0kJuYRLCgeRDINyKejEdhwealkkWKJpHOERSxPoBUL39rHHG7TACXbsHOTuIA469SKddXdvZRebcyrGmQoyeWJ6ADqSewHJqrLrulW4c3N9FbBAC/wBoPlbM9M7sYz2z1wcdDV5JEljWSN1dGGVZTkEeoNNnfy7eSQfwoT+lc38Nv+Sf6T/1zb/0Nq6iiisTxm5TwXrJH/PlKPzUipPCf/InaL/2D4P/AEWtaryJFG0kjqiKMszHAA9Saz7LxFompXDW9jq1lczLnMcU6sxAGSQAeRz1FXYbmKe2W5ifdE67lbBGR61FJqNnDp/9oSzrHa7Q/mvwApxgnPQc96S01XTb+EzWWoWtzErhC8MyuoY9BkHryOPepJL23i8zfJjytu/5ScbuB9c1PVdb62dUZZMh5TEp2nBYZyOnseelWKK5Xw8+fH/i6P8AutZn84f/AK1dVRRRXN/D9dvg62X0nuR/5HkrpKo3uuaRpsohv9VsrSQjcEnuEQkeuCagj8UeHppUii17TZJHYKqLdxksT0AGeTU95rOm2Ewgub2FLhl3Jbht0rj/AGYx8zdOgBqJ/Eehwzi3m1eyhn4zDNOqSAnkAqxBB5HBFWLzVLGwdEublI3kVmROrMAMkgDnA9fcetPl1Cygu4rSa8gjuJ/9VC8gV5P91TyfwqG+1vSdMlWK/wBUs7SRhuVZ7hIyR64JqKDxLoN1OkFvrenTSyHCRx3SMzH0AB5p134g0SwuDb3msWFtMvWOa5RGH4E5p1lruj6lP5Fhq1ldShd3lwXCO2PXAPSr9cv8Qx/xTCnuL22I/wC/q11FFFFcv42/1vhv/sOQf+gyV1FRzzw2sLT3EqQxIMs8jBVUe5NVG1vTYxma6W3GzzP36mLC92O4DA9+nI9RVq3uYLy3S4tZ454XGUkicMrD2I4NP8xPMEW9d5G4LnnHrimXFxBaQPcXM0cMMYy8kjBVUepJ4FZv/CW+Gv8AoYdL/wDA2P8Axq2dW0/+zjqK3sD2YGfPjcOnXHUdeahvfEeiadMsN7q9lbytghJZ1VsHocE8D36VeguIbqBJ7eZJoZBuSSNgysPUEdaxvG3/ACJOs/8AXnJ/6DWjpH/IGsf+veP/ANBFXKKK5zx9g+EZ1P8AFcWw/wDI8ddHRUE15a2yyPPcwxLHjeXkChc9M56ZqbrS013WNGd2CqoyWY4AFDSIihndVBIAJOMk8CnVGlxBKQI5o3LAsArA5AOCfzqSqupyGHSruUdUgdh+CmsL4cEt4A0kn/nkw/8AH2rp6KKK5zWj/wAVr4aHfF2f/IYro6jaeJJ0gZsSSAlQQfmx1wemfami6gMwhWVWdt2AvP3cZHtjIqR5EiUNI6oCQMscck4A/OmG4gEgiM0e8ttC7hknGcY9cc/Sqt5r2jadP5F9q1jazY3eXPcIjY9cE1X/AOEt8Nf9DDpf/gbH/jWk9zDGYg7gec22M4yGOCev0Bqtcazp1tdfZHu0a6GCbeLMkoB77Fy2OeuMCr1cJ8YZmi8DkKceZdRqf1P9K7uiiiuV8dOUPhv/AGteth+j11VVr7UrDTIll1C9t7SNm2q88qxgn0BJ61nr4x8Ms7oPEGm5TGc3SAc+hzg/hVybWdKt7WG6m1Ozit5/9VK86hJP90k4P4UyXXtHguJbefVLSKaFd8iSTqpVeOTk9ORzVqK7tp4Yp4biKSKb/VOjgq/0I6/hVKXxLoNvO1vNrenRzI21o3ukDKfQgnOa0Hljjj8x5FVB/ExwPzpUkSQsEdWKHa2DnB9DTq53x/IYvAmrsDjNuV/Mgf1rR8Pkt4c0wnqbOL/0AVo0UVzHjEhr/wANRHvq8b/98o/+NdPSVAb62Fl9sMmIMZ3bTn8uufan3FxBaQPcXM0cMMYy8kjBVUepJ4FZv/CW+Gv+hh0v/wADY/8AGr5vrX7EL1Z1ktmUMJY/nUqe4Izx79Kr3fiDRdPnNve6vY20wAJjmuURgD04JzVm3vbS7tRdW11DPbkEiWOQMhA68jipBLGdmJF/ecpz97vx60+sPxt/yJOs/wDXnJ/6Ca0NI/5A1l/17x/+girlFFFFFFFFFFFFFFFFFFFFFFFFFFFFFFFFFFFFFFFFFFFFFFFFFFFFFFFFFcvqvy/EfQCf4rS6A/8AHDXUVg+LYLKfTVW60kai4dfLUwK+35hk7m+VePcZ96yNR0hJ79mPhTw9i0VZZHnlwZE2EY/1B4BGOv8ACK1JzbQWmkQR2i2kkrL5Noi/uoTjcWIUAfKM4zxuI4zisezgnuZ53klbVROvmfZr/wAgRP8Auo87isBPRuwHTkVrTQGXw1Ex020t4FtXdIbduLc7CQVOF4wSCAB17jNZmm/a/wC0E+2fb922Db9t+z7sfvPu+Txj681PfaLDqdnpEkmmXF3st0BaKCzkUDA4Yzjd/wB81HJpZu9UZLmG5t4oL1VDQ63dNu3DIwnyhOGH3Tx0HFdiiCONUUsQowNzFj+JPJrkPilJ5fgqU+txD/6GD/Suxooorh/iQd134Xh/v6xD/PH9a7isLxVpceqWsCvYXF4UckCCG1kZeO/2gYA+nNcpqmqQaTqyWq6ldWixTIfJguNOQR/udvKucq3bsvp2rR1WF7vwRp80BsLmWNVaM3MKXDM+equjhVPByVyPSpn1TUYJmSC8Bmu9reWdBuWDybBkK/mBB07txzk8VYv7bMWgxNa35uI3RdgneFFwpzv2OVJyOg3HGcZGaz1tbe4N5bW+kaI4+1wq9pDMGgdhvz5hEfDdMjaegrS1q9TS59PhW6tLTZCx+xJFvkwBz5OGX5sfKBtPXoOa5rUdQ0x9Qnll1vy5Qk5jP9sSRlORtG0SDHAyAAM5HBxXo9sS1rESSSUBJPfisfxt/wAiTrP/AF5yf+g1d0AbfDumr6WkQ/8AHBWhRRXL/En/AJJ/q3/XNf8A0Na6GxbfYW7esSn9BUkkixRNI5wqKWY+gFc/awa/BYSXg1HT4EmLXLJLp8jugPOCRMMkDA6DpTfE3mXXhOJrmESSyGIvEkIcFjj+FopTgE9lJ4rm/D6XbeHtRsI5rmxURb4wkCIpLMQQA1tH1wASN34VvanbXl54fksX26pMJ5EH2qxScuBnHRo0QjsxI6dzWd4fs3l0e2GpQG1tJJgP9GT7KVZchQGjlOUzkhgRkkHnJqzqyTQ+FrCK3N3I7v8AaDK90xZEAJJLvNG2MEfxj8qxf+EgN+DY2yxCSViIjDf2pk3EjP8Aq7lHO7HTfn1L5473QnZ9Ds98bRukQjdHxlWX5SOCR1B7mp9QO3Tbo+kLn9DXP/DQ7vh9pJ/2HH/kRq6miisPxsM+CdZ/685P/QTUvhL/AJE7Rf8AsHwf+i1qXxEIG8P3y3E4gQwsN7T+SAccfPkY5x3FeZ6RcLqGpvF/arBsyMoW/O5yEC4Ufa5Mk8gfKfXJA2129rbadbaTqJNzeJY7URN99OxX5FICndkZLAYXr0rmtQjn/wCEftri2e+jtreCBpPOu5FCrkkkhriPrgYzk9ANtb+lbl03bLHfxzGe2dlvLnzOrjBVTNIyA4PBNWdQWK6vLtZUhubOJoftULYbPHQgjGBncc+g9am0vSbOGw1A6VBBp5uZXUSW0CqQF+XjA9iR7nNecPo8qLaRyaW7S7xuL6dlmwpzk/YDn3+Z/wAeteieDIUt9IeJbU27CUll+zGHPA5x5EOfrt/GuhrlPD67fiH4uP8AeWyP/kJhXV0UUVy3w3l83wTat6zXB/OZz/WuprA1a5NpJfy/bfsS4tla4+QeWpcgn5wV6HuKpQX8d0t9Db6//bMCJC3mboW2MZDkZiVR0A61leOryTT9Ue4iuxETEi+X9olh3YDnOVniX0GDk88elMk+0Ne21wdQvd8S26riK6kBBCE5kilMQz33bvckYrZ1exe81rUYhDetHcWscLtCsHlnlsBiys/c9iuM5FQWVnJYDToLaO+WzN6SP9Ft7eNhngyIERweDjao7ZrR1KXU4dcd7G5tIISkMcz3Fs0u0kvtPEi8ZwO/WrMEmtxatDbXN7YXMbIzyrDZvEyKOAcmVup9ux9KwdcXUFutWjgl1FY5ydotpbIRE+Uud3mneDgc47c1c0ePUjrtr9rOqbYrd+L57PAztAKiH5j06niuqrmPH3zaBBH/AM9NQtl/8irXT0UUVzHjUfvPDh9Ncg/9BcV09Y/ikynQpYbeKSSaZlSNY2AOcg5yXTGAD/ED7iuIXxIoQ2oMBLAKZP7QtfML7SA+ftPmZGcY8wn0ZfunprBLpvCL2k32m0eN3juXVTLMqk7iUCmQsxDDqWIz3xWd9qC6zGF1zxKALZgG/sf5h8y8Y+zdPfH41vT+c/hvMV7czyySJ5ct9b+W4PmLjcgWPgHtgH3qGO48QmwkuptV0qIw7hKh02QlGHUf6/8AL1yKp+K7i5h8P6fPfSRxXBdRLtkMSK5UnIJmjwQRgZk79ziuUvroJPAWvIbQNDFMqxXRizle4a9jz35APGBmvQ/C7F/DVi5KHfEGGzJGDyOS7k/Xcc+tQeNv+RJ1n/rzk/8AQau6Axbw7pjHqbSI/wDjgrQoorlviM5j8ISMO1zbk/8Af1a6mormSaO3d4IfOlA+VNwUE+5PQf5wawIL66tmmsp9A1G7uJ9zzSK1sElHC5AM3C4wADzjrzmrukb7/STb31pvtmTavn7W8xORtcAkbhjB6g8EHnAqXHhbw6up2aDQNMCssm5RZx4OAMdqsanpkWn+HL2DRoLLTwY2ZgtsNh45+VSvOO/86xLpfD1/eyDU5PDdze2ce+beER5WA/jLbiijuMt2zjobWnSxf8IldzaC2nR+aXfFi4aK2+XnGApzgdMA5PNN1DRJs2txE0jXMsiwpDHqE9rGIlRiFJj7984PJx0re0e0ls7ERzoY5CxLKb2W6x9HkAb8MUmvkjw7qRHUWkv/AKAax/ht/wAk/wBJ/wCubf8AobV1FFFFc1q/zePvDi/3YLxv/HYxXS1h6xPJHrOnRC6vIY3bLBLUSQsc4ALeWdrEnj5lFYMlskOuW6/2L4gLlJXI/tZVLsWBJAFwAAcMSBj6ccb2qyX7X+mCKFVi8wsYpXwXk8tyFJGcAEDJweSMdKqR2+uX9xfQSx6ZZnzklyWkuudq4wB5RHK5zn1GO9HinUb2xeyjTWLWwLo5kkluY7ZXYbehkjl9Tx+vFc9oGs3wuLeMeI7GZZL0q1vHqMEjuGkOcILdWOc5yGHHPtV3xfZ21xrQaS3tnaVRAzSeHp7pgCM5EinDEYwAORk+lXrR9TtpEXTriyhtpZ4ofLl06RSv7lTkKZFKjAxtIyPWusrgvjL/AMiSn/X5H/6C1d9RRRXJePhkeGvbxBa/+zV1tYHjCK5/shrq2uYbc2+SzyEqQDwdr+bGFOCeSfy61wC6lcyTssWuKpcqsRbVchT3JH9oMf0b6V3l9azW9pawSyRSsscxkMKFFdeCwAZmIJGRyTWB/bWmRTtnVoY5Zc+VJHqFuBbMWyWdWlznoCAG4zkknjUv20+S10Rt1yX3jyo7O8kKsu1vm3IwUgkD5mxwe2SK5aTWbeWK6MuoWqzSybkji1YiMgk7/kF4EI5HUpnJ+Xiu0luL69s9Hki+zeXLsd9r7kkfYSoBBPyggHOT2xmqMugXMOpPBZ+fdZiWWYya1dWo8xmbcwWPcOSOnAFdbDH5UKRjPyqB8zlz+Z5P1Nc38R8/8IBq2P8Ankv/AKGta3h7/kWtL/684f8A0AVo0UVx/jOYJ4j8Jxn+LUCf/Hcf1rsKzdeghudMaO4tYLiHcDJ58YkWNRyX2kHJA6cdfbNZP9m6ZHHJb2lnb2mn3FxGr3FoghLdMLmPB+9gBvc+mSl1CIfCVxGjXk/nzMYt0lxO+A/A3KHdRheoHFcyL8nV2jGn6h5ghGY/7T1bcOSf+eG79MV0E+nx6p4VsLd9OvbloGwUW2iLqQDk/wCmKMj/AGsZP50XGq6dozWunz31naxReSwt5ZoIpIWB5BVSAMgg8cdfarN7d3Oo+G4Zba8t545pVNxNEyyJsMgBiBU4PB259j61TvpyNTj2a54hZYZJA7Q6UJEj4IwrC3IPPHU11On82ELC6luwyhhNKqqzg8gkKqgfkKz/ABgu/wAGa0P+nCY/khNWdBbf4e01j/FaRH/xwVoUUUUUUUUUUUUUUUUUUUUUUUUUUUUUUUUUUUUUUUUUUUUUUUUUUUUUUUUUVy+t8fEHwufWK9B/74SuoqlqkN1c26Q2yQsHkXzGkkK7VBySAFO48dOPrVO80e61OZZ7m4jgaFiYI4lLqef+WmcbwcA7flAPckAi1cWtze2sKTGOKRZNzmJiRjBGRkdeQcHp71QfQ7i3Mk1i4DoQIIzIEV08tUKuSjEfdz8ozwOatS6bNJYQWzCKQQwbMMSAXK7SeOcAE/XPbrVOHw82lxO1kGv5iE2G/vpeCuR94h8DknAHU/lX1TwtcahDYqP7OZrW2Ee65tzKwbK8xtkbDx97B7cVek0O4/0q6F68t3K6yojHy4VZduMAAnkKASSx64xnFatvG8VtFHI5d1QBmJzuOOTXG/FzP/CDuB1+0xY/Ou3ooorjfHsXmal4Vb+7rMX+P9K7KsbxHokmtwQRItiwiZmIvbbz05UgYXI55654qL/hHXmjsPtk4lktMBSuVEQCFcp/tZI+Y+nbpVy802W608xSSpLchdqysu3jcDyBkZwBkj9OlY2qaHqt7qQuUtE2rKWGNfu4tw2kDCKmEPP8P9a1hZXcsGnwTW8AihJM4a6eY/dKgAsuXznktj8ajk0GK5tRDdQW0yPOsksLIDEEUYVApGCAAO3XJ4qWfSpHaOG1m+xWkMapHFbkpj5gSMDAAwMD6mq7aJcy3sF7LcKbmONgJOvln5doHAyODnpnJ6ZwNmIyGJTKFWTA3BTkA98Hisjxiu7wXrQ/6cZj/wCOGrujY/sOwx0+zR4/75FXaKK5X4mts+Huqn/ZjH5yKK6DSwRpNmD18hM/98ik1EXTWpjtbS1uy/yvFczGNCp68hGz9MVzNx4YklgZIvB3hiFz0kSflfp/o/B9609UstV1fQ5LO4sNPSVpFwguRIm0c5zJbsM57bD9RWV4f8J6hpMckclvYKrurt5bx/PtJZQSlvGR823kluM4Aral0qe40plnT/SzI0oigvpYE3E/dMiAEjHqv4VXg8LwxaamnRwWlnA8am5a2iAeaQe5GODzk5J9u+hJphvraOLUJJQ8ROGs7mWAMOxIRh+WSBWRZeDbU6jcX97HcRzsBHFJDq907+WPVyVPJ/h5A9a6O2t0tLdYI2lZE6GWVpG/FmJJ/E1FqgJ0m8A6mB8f98muc+Fpz8OtLz/01/8ARr11tFFY/i9d3g3Wh/04TH/xw07woCvhDRlPUWEA/wDIa1oXayvaSpCivIykANIYwc/7SgkfhWPYaLf6VGVtrmGdmhWJWnDYgAPAUZJZQCThmyT/ABc8T2Om3mlaZPZ27xXXBaFpmMZJbOQxCnAHYgdOMcZOVP4Xv5YY1LWrvFGFG5sDhAoXOwkA4bJ5HOCjCtDSfDsVloyaTPFA9qu19sQ8v585IO0DcMjrxkcEeskmjSBpra18i3srhVSTavzBRnIAxjJyeTn6eijS5YdJl002tnf2qIFt4bn5VKjoj/Kw44w2OfTjJzh4G0xzG02naVu3MW8nT4kVAVIG0FWyQSD8xIyM4HStTRdHi0dJYorSwhDEESWluIS45xuUcZA7g85PArUrmtEK/wDCdeJwPvbbMn6eW2P610tFFFcd8KiW8AWTH+KSU/8AkRq7Gsq5stXOpS3Fhe2UEckaKVntXmJI3ekiY6+9Q3Fh4huIhHLqemvGXUsq2EiEgMCQG85sHj0NQa94cutYEgivFtjJKDvzJkIIyuMI6HOSe+PXPSlPhqR5PtEs7yTIIwIxd3CRS7P4mG88nA67unO6n3nhm01DVzcXGlaOYSQ0jvZrLPOfdmGFHb+In1FRv4RsINThu7HTNHSJGUtC+nxhlwfvI6gFW78g5wMbetXZrPUXknWNbPbdE+Y8259ijgL5eBuyM5ywwT0NR2GlX2kSkQXK30UrDzHvGImHvvAIYAcBdo7/ADUt1pl3EsE1klvczpM8si3EhiWTepB5CtjGQMY6CnWFje5iku0t7U25CwxQStMFTGCCzKpOeOMcbRWtXK/EBtulaaP72q2o/wDH8/0rqqKKK5Tx8/lWuiS/3NatW/U11dV7yzivoPJmedVznME7wt/30hB/WufHg21n1r7Xdx3Hl26FbWUavdPLk/ePJGz0wGOa2Pstxptl5elxfaXL5Ivr6U8f77B2/DpVAr4lOpLef2ZpfywmLZ/aUncg5z5HtVx49Tu7aP7RbWkUscnmGJLlnVivKDcYwRzyfl4x3zVWXQ767uRfTXsUNwpDLbxxlrckdDICQZGHZgV7ccVPeW+rXcFsyLZwXMcrFiZHkRVKsoIwFJPIOMj696qP4amvJnlvNQuY38oRiSzu5oTIR0dgGC5HTGD7k9Br6ZavZadDavtJhXZlSxBA7/MSefcn6ms7xmu/wXrI/wCnKU/kpNWvD3/ItaX/ANecP/oArRoorkviedvgG+k/uPC3/kVK62muXEbGNVZ8fKGOAT7nBx+VZ32fULaGS5hS3u7+YgN5srQxqo6KpCscD6ckk8dKmihurLSY4baOKe4ijACySGNGPf5grEd+1Z8n/CSyXcFx/ZmljyQw2/2lJznH/TD2q3s1S+067gvbW0tnkjKR+TctKDkEc5jXH61Uk0vU5bkSD7NHuO95VkYsp2lAFG3kAHOSeT2FT2um3C6ZewSJDFJcAoiRyF1VQgRfmKg9snjjPepdQ0qHUobS3uoILiCKQNJFMgdWAUjoRg8kGrVnY2mnwC3sbWG1hBJEcMYRcnqcDiodaXfod+vrbSD/AMdNYnw2/wCSf6T/ANc2/wDQ2rqKKKK5jVM/8LF0H0+yXX/sldPVC/s7u6nieC4jhEB3oGTeHbkfMOOADxg9Tntg5htNcKTK2ladI8xy0z6nJvyPukf6Pxjtjp+dak1rcXD6fK+xXt5N8o3E/wADLwcDPLegpmo2t95hutMaATunlukxKqw7HcASCuSehz046itqVlrU6RW2n3CWoSMAX5nLSK2OSYShVxwOrA8nGDTbS38Q6ZapAp07UzklpXZ7Q5JySQBIGJJJ/hA9Kt3WmNdTpLIytmQblPRUCsNo9eWJzx+lMTS5lgtA0ivLHc+dKxP3uCPTk4IHbpWpXB/GFd/g6Ff719GP0au8ooorl/HK7otBP93XLQ/+PEf1rqKy/EFnf6hpv2SwEAaR13ySzOnlgEHI2DJPHQMv1FYU3g7VnhdRrauSpG1pL3B9jm6YfmD9DW+1hJfC0bULa2Plqwlh3eamTjGCVGemeQKH0yaSaKSW5aQiVmfBKBV2MoCAdPvdc59+gp09reO1miyRSCGQu8rkhuFIX5QMHrzyOnvxE2kTvdRSyXkjMEkDyBtrBmK42DoANvT885NWprWaUWm6RXaCUO7Ebd3ysOnrzVa80DT9S1JrnUdPs7xBEqRieFZCpBYnGRxnI/KtJEWNFRFCqowqgYAHpXPfEBd3gPVx/wBO5P5EGtLw9/yLWl/9ecP/AKAK0aKK4vx1HnX/AAlL/d1ML+eP8K7SobkXJjC2pjV2OC8mflHqB3PtkVkvoEq2UulW10YrCfJZj80sZPJCZGBknOTnb0AxjbcitL5bFbT7UkPlnaJooxuaMDjg8K34EcdBnhg0S3E5wuIvLADB28wPkndu65565yaqaroN3qdpa2809ld+RMXLX1mJVZdpA3ICoZsnqNo9qt2+myw6TYWhaLfamMtsBC/L1wP5VY1K1e8smgjKhi6NlunDAn+VZ66fr0XnJb6lp0cTyu6JJYvIwDMTywlXPX0/OtOwge10+3t5CpeKJUYr0JAxxVDxb/yJ2tf9g+f/ANFtU3h7/kWtL/684f8A0AVo0UUUUUUUUUUUUUUUUUUUUUUUUUUUUUUUUUUUUUUUUUUUUUUUUUUUUUUUUVzWtpnx14Yf+6t4PzjX/CulooooooooorkPifD53g1xjpdQfq4H9a6+iiiuX8apun8Nv/d1uD/0F66iiiiiiiiiisjxb/yJ2tf9g+f/ANFtU+grt8PaavpaRD/xwVoUUVyvxNTf8PdVH+zGfykU10ttGYbWKI9UQL+QqWiiiiiiiiorlPMtZU/vIw/SuZ+GKeX8PNKB7rIfzlc/1rq6KKzfEahvDGqqehspgf8Avg0eHePDWlj/AKc4f/QBWlRRRRRRRRRXK6C2fiF4sHotkP8AyG1dVRRRXJ/C+Mx/DzTFPX96T/39eusooooooooooorkviJ/yDdI/wCwxbfzNdbRRRXJ/EJS9ho6KMltZtQB/wACNdZRRRRRRRRRWR4t/wCRO1r/ALB8/wD6LapvD4K+HNMB6izi/wDQBWjRRXLfExPM+H2qr/sxn8pFNdTRRRRRRRRRUN5H5tlPH/fjZfzFYHw6Xb4B0kf9MSf/AB410tFFFc5q2B498On1t7wfpGa6OiiiiiiiiiuN+KUPm+D92M+Vdwt/49j+tdlRRRXNeNWAt9GB6trVoB/38rpaKKKKKKKKKw/GqeZ4K1kellKfyUn+lW/D3/ItaX/15w/+gCtGiiuV8bR5u/DMn93WoR+at/hXVUUUUUUUUUVkeLf+RO1r/sHz/wDotqm8Pgjw3pgPUWcX/oArRooooooooooooooooooooooooooooooooooooooooooooooooooooooooorH1zQZdWubK7ttSm0+5si/lyRxo/DjBBDAjoKoHwzrxOT40v8A8LaEf+y0n/CMa9/0Ol//AOA8X+FMfwt4hbp42vh/27Rf4VC/g/xK3Tx3ej/t1T/GoW8F+Kv4fH94PraA/wDs9RnwX4w/h8f3J+trj/2emHwZ417ePJv/AAH/APr0f8IZ42/6HuX/AL8f/Xp6+C/GJ+94+uB9LXP/ALNU0fg3xShy3j67b/t0X+rGp5vBur3tv9l1Hxbc3dsXR3ia0iXdtYMOcZHIHQ111FFFZWv6KdbtIIkvJLOa2uEuIZkRWKuuccNwetZL+GPE7tn/AITi6H0sYh/Km/8ACLeJ/wDoerr/AMAo6T/hFfE//Q9XX/gFHTT4S8Snr46vPwtEH9aYfBviQ/8AM93/AP4Dr/jSjwb4h7+OtQP0hX/GnjwdrnfxvqZ+kaU7/hDta/6HbVP++Eo/4Q7Wv+h21T/vhKcvhPXF6eNdS/GKM/zFLceE9Zu7OezuPGF7JBcRtFIjWsPzKwwRnbkcGuktYFtbSG2UkrDGqAnuAMVNRRWdr2kJr2i3OmSTNCtwAC6gErgg9D9Kyn8Na/J97xpfD/dtYV/ktQN4P1p+vjbVPwRB/IVE3gfV26+ONY/BgKT/AIQXVv8AoeNa/wC+/wD69OHgjV16eN9Y/Eg08eDdaH/M7ar/AN8pS/8ACHa1/wBDtqn/AHwlKvhDW16eNtT/ABjQ/wBKkHhfXQMf8JpqH/gPF/hSjwzrynI8aX/420J/9lqQaB4hAx/wmV3+Njb/APxNaehaTHoWiWulwyNKlsm0OwALc57fWtCiioL21S+sLizkZlS4iaJivUBgRx+dc9B4X1y2toraHxhdpFCgRFFnBwoGAM7fShvDGvN/zOl/+FtCP6VA/hDxE3Txzfj/ALd0/pUR8F+Iz/zPmof9+F/+Kpp8D+IT/wAz5qX/AH6H/wAVTT4E8QH/AJn3VP8Avj/7KgeBPEA/5n3VP++P/sqcPBHiEf8AM+al/wB+h/8AFU4eC/EY/wCZ81D/AL8L/jUqeEvEiHnxzen/ALdY/wCtWU8OeIEH/I6Xp+tpCf5rVzQvD76Rd397cahJf3V+0ZlmkjVD8i7VGFAHT2raooork7PwjrOmWi2em+Lbi2toy3lxmyhfaCSepGTyTUn/AAj/AIr/AOh4l/8ABZB/hQfD3io/8zxN/wCC2D/Co28MeKG6+Obn8LCIUw+EvEzdfHV5+FpGP61GfBviQ9fHd/8AhbqP600+CPER6+PNR/CID/2amHwJ4gP/ADPuqf8AfH/2VJ/wgev/APQ+6p/3yf8A4qnL4D1z+Lx5qx+nH/s1PHgXV+/jjWf++v8A69OHgfV16eN9Y/Eg1Kng/WkOR421Q/VEP86dN4O1G9Nsmo+KLu7gguI5/Ke3iXcyHI5AzXV0UUVleINEOuWkES3j2kttcpcxSoisVdc44bg9aoHQfEnbxnc/+AFv/wDE0h0DxP28az/+C6D/AApp8P8Airt43m/8FsH+FJ/wj/iv/oeJf/BZB/hThoPikdfGjn66bDTxovicf8zfn/uGxf40v9i+J/8Aobv/ACmx/wCNIdE8UHp4wI+mmxVGdA8VH/mdpB9NNg/wpRoHijv42nP006D/AApl14X12+s57O68YXMkFxG0UiCxgXcrDBGQuRwa6O1t1tLSG2UkrDGqAnuAMVNRRWdr2kJrui3GmSTNCs4A8xQCVwwPQ/Ss06D4k7eM7n/wAt//AImmnQPE/bxrP/4LoP8ACmnw/wCKu3jeb/wWwf4Uo0HxSOvjRz9dNhp40XxOP+ZvJ/7hsX+NL/Yvif8A6G7/AMpsf+NNOieKD/zOBH/cNipDoXik/wDM6OP+4bDTToHio/8AM7yj/uGQf4Un/CP+K/8AoeJf/BZB/hTl0DxP/H41nP006Af0rX0PSY9D0W10uKVpUtk2B2ABb8qv0UUVj63oMuq3VleWupS6fdWRfy5Y40fIcAMCGBHYVSfw7r8hG/xne4H920gX+S07/hGdVI58X6p+CQj/ANkpp8K6mf8AmcNX/KL/AOIqJvCGrHp4z1cfhH/hTD4O1rt421X/AL5T/Cj/AIQ7Wv8AodtU/wC+EpD4O1vt431QfVEqM+DfEP8AD461AfWBT/WnDwj4lXp47vfxtUP9aevhfxOvTxzdfjYxGi48H6xqFv8AZdT8WXF3bF0d4vsUKbtrBhyBkcgdDXW0UUVleINEOuWlvEl49nLbXKXEUqIrFXXOOG4PWs1/DniN/wDmdbsfSzhH8hUD+EvEb/8AM83w+lrGP5VA3gnxE3Xx5qP4Qgf+zVH/AMIHr/8A0Puqf98n/wCKo/4QPX/+h91T/vk//FUf8IHr/wD0Puqf98n/AOKo/wCED1//AKH3VP8Avk//ABVPXwN4hXp491L8Y8/+zVIvg7xIvTx3ffjbqf61IvhXxOvTx1dfjZRmnT+E9fvLOazu/GVzLBcRtFIn2GEblYYIzjI4NdNaW62dnBaocrDGsYJ7gDFTUUVl6/ov9t2sEa3klpNbXCXEM0aqxV1zjhhg9TWXJ4Y16X73jS/H+7bwr/IVTm8D67L/AMz1qq/RQP5EVUb4ca0/3vH2sH/gb/8AxdRN8LtTf73jjVD9dx/9nqB/hJqD/wDM53x/3o2P/tSoz8IdS7eNLv8A78N/8co/4VDqX/Q6XX/fhv8A45T1+E2rp9zxxer9IXH/ALVqVPhj4gT7vxA1Jfokg/8AatXIPAPiOHH/ABcDU2/3kLfzc1ck8Ha7cWU1nc+M7yaCeNopFa0i+ZWGCMnJHBrqbS3W0s4bZTlYY1QE9wBipqKKKKKKKKKKKKKKKKKKKKKKKKKKKKKKKKKKKKKKKKKKKKKKKKKKKKKKKKKKKKKKKKKKKKKKKKKKKKKKKKKKKKKKKKKKKKKKKKKKKKKKKKKKKKKKKKKKKKKKKKKKKKKKKKKKKKKKKKKKKKKKKKKKKKKKKKKKKKKKKKKKKKKKKKKKKKKKKKKKKKKKKKKKKKKKKKKKKKKKKKKKKKKKKKKKKKKKKKKKKKKKKKKKKKKKKKKKKKKKKKKKKKKKKKKKKKKKKKKKKKKKKKKKKKKKKKKKKKKKKKKKKKKKKKKKKKKKKKKKKKKKKKKKKKKKKKKKKKKKKKKKKKKKKKKKKKKKKKKKKKKKKKKKKKKKKKKKKKKKKKKKKKKKKKKKKKKKKKKKKKKKKKKKKKKKKKKKKKKKKKKKKKKKKKKKKKKKKKKKKKKKKKKKKKKKKKKKKKKKKKKKKKKKKKKKKKKKKKKKKKKKKKKKKKKKKKKKKKKKKKKKKKKKKKKKKKKKKKKKKKKKKKKKKKKKKKKKKKKKKKKKKKKKKKKKKKKKKKKKKKKKKKKKKKKKKKKKKKKKKKKKKKKKKKKKKKKKKKKKKKKKKKKKKKKKKKKKKKKKKKKKKKKKKKKKKKKKKKKKKKKKKKKKKKKKKKKKKKKKKKKKKKKKKKKKKKKKKKKKKKKKKKKKKKKKKKKKKKKKKKKKKKKKKKKKKKKKKKKKKKKKKKKKKKKKKKKKKKKKKKKKKKKKKKKKKKKKKKKKKKKKKKKKKKKKKKKKKKKKKKKKKKKKKKKKKKKKKKKKKKKKKKKKKKKKKKKKKKKKKKKKKKKKKKKKKKKKKKKKKKKKKKKKKKKKKKKKKKKKKKKKKKKKKKKKKKKKKKKKKKKKKKKKKKKKKKKKKKKKKKKKKKKKKKKKKKKKKKKKKKKKKKKKKKKKKKKKKKKKKKKKKKKKKKKKKKKKKKKKKKKKKKKKKKKKKKKKKKKKKKKKKKKKKKKKKKKKKKKKKKKKKKKKKKKKKKKKKKKKKKKKKKKKKKKKKKKKKKKKKKKKKKKKKKKKKKKKKKKKKKKKKKKKKKKKKKKKKKKKKKKKKKKKKKKKKKKKKKKKKKKKKKKKKKKKKKKKKKKKKKKKKKKKKKKKKKKKKKKKKKKKKKKKKKKKKKKKKKKKKKKKKKKKKKKKKKKKKKKKKKKKKKKKKKKKKKKKKKKKKKKKKKKKKKKKKKKKKKKKKKKKKKKKKKKKKKKKKKKKKKKKKKKKKKKKKKKKKKKKKKKKKKKKKKKKKKKKKKKKKKKKKKKKKKKKKKKKKKKKKKKKKKKKKKKKKKKKKKKKKKKKKKKKKKKKKKKKKK//2Q==))"
      ],
      "metadata": {
        "id": "CsUvp_JeASPX"
      }
    },
    {
      "cell_type": "markdown",
      "source": [
        "~~~\n",
        "graph TD\n",
        "    A[團隊間運作方式及共同研發]\n",
        "\n",
        "    A1[課程共同備課與完成學習單]\n",
        "    A2[XR直播收播共學]\n",
        "    A3[VR軟體研發討論]\n",
        "\n",
        "    A --> A1\n",
        "    A --> A2\n",
        "    A --> A3\n",
        "\n",
        "    A1_1[教案設計]\n",
        "    A1_2[學習單編寫]\n",
        "    A1_3[資源收集與整理]\n",
        "\n",
        "    A1 --> A1_1\n",
        "    A1 --> A1_2\n",
        "    A1 --> A1_3\n",
        "\n",
        "    A2_1[直播前準備]\n",
        "    A2_2[直播進行]\n",
        "    A2_3[直播後總結]\n",
        "\n",
        "    A2 --> A2_1\n",
        "    A2 --> A2_2\n",
        "    A2 --> A2_3\n",
        "\n",
        "    A2_1_1[技術測試]\n",
        "    A2_1_2[課程排練]\n",
        "\n",
        "    A2_1 --> A2_1_1\n",
        "    A2_1 --> A2_1_2\n",
        "\n",
        "    A2_2_1[互動教學]\n",
        "    A2_2_2[數據收集]\n",
        "\n",
        "    A2_2 --> A2_2_1\n",
        "    A2_2 --> A2_2_2\n",
        "\n",
        "    A2_3_1[回顧與反思]\n",
        "    A2_3_2[學生反饋]\n",
        "\n",
        "    A2_3 --> A2_3_1\n",
        "    A2_3 --> A2_3_2\n",
        "\n",
        "    A3_1[需求分析]\n",
        "    A3_2[軟體開發]\n",
        "    A3_3[教學應用]\n",
        "\n",
        "    A3 --> A3_1\n",
        "    A3 --> A3_2\n",
        "    A3 --> A3_3\n",
        "\n",
        "    A3_2_1[分工協作]\n",
        "    A3_2_2[迭代更新]\n",
        "\n",
        "    A3_2 --> A3_2_1\n",
        "    A3_2 --> A3_2_2\n",
        "\n",
        "    A3_3_1[實際操作]\n",
        "    A3_3_2[效果評估]\n",
        "\n",
        "    A3_3 --> A3_3_1\n",
        "    A3_3 --> A3_3_2\n",
        "\n",
        "~~~\n"
      ],
      "metadata": {
        "id": "0q4vIYHmAXv4"
      }
    },
    {
      "cell_type": "markdown",
      "source": [
        "###亮的~AI 翻譯器\n"
      ],
      "metadata": {
        "id": "92zRebRqWZqg"
      }
    },
    {
      "cell_type": "markdown",
      "source": [
        "#### doPost().gs 檔案\n",
        "負責接收訊息和處理回覆的主要函式，\n",
        "\n",
        "doPost 是 Google Apps Script 中的一種特殊函式，用於處理 HTTP POST 請求。\n",
        "\n",
        "當你在自定義的 Google Apps Script 網頁應用程式中收到 POST 請求時，doPost 函式會自動被執行。你可以在這個函式中編寫程式碼來處理接收到的資料。\n",
        "\n",
        "\n",
        "doPost 函式有以下的特點：\n",
        "\n",
        "\n",
        "它接收一個 e 參數，代表請求的資訊。你可以使用 e 參數來存取請求的資料，例如 POST 的內容、請求的標頭等等。\n",
        "\n",
        "doPost 函式必須回傳一個回應物件，該物件包含回應的內容和標頭。"
      ],
      "metadata": {
        "id": "_GTVX7z_2X8G"
      }
    },
    {
      "cell_type": "markdown",
      "source": [
        "~~~\n",
        "Line_Bot_Token = \"將您的Channel access token 輸入在此\";\n",
        "Line_Bot_API = \"https://api.line.me/v2/bot/message/reply\";\n",
        "\n",
        "ChatGPT_Access_Token = \"將您的ChatGPT API KEY 輸入在此\";\n",
        "Ask_Key_Word = \"請問:\"\n",
        "\n",
        "function doPost(e) {\n",
        "  try {\n",
        "    if (e && e.postData && e.postData.contents) {\n",
        "      var oPostData = JSON.parse(e.postData.contents);    // 取得 Bot 收到的資訊\n",
        "      var sReplyToken = oPostData.events[0].replyToken;\n",
        "      var sUserMsgText = oPostData.events[0].message.text;\n",
        "\n",
        "      // 以下狀況不回覆\n",
        "      if (!sUserMsgText) { return; }\n",
        "      if (sUserMsgText.indexOf(Ask_Key_Word) === -1) {\n",
        "        sResponse = '如果想問問題的話，請開頭請用 ' + Ask_Key_Word + '再接著問題內容即可哦!';\n",
        "      } else {\n",
        "        // 呼叫ChatGPT API\n",
        "        var sGPTReceive = chatGPT_api(sUserMsgText.replace(Ask_Key_Word, \"\"));\n",
        "        var sResponse = JSON.parse(sGPTReceive.getContentText()).choices[0].message.content;\n",
        "      }\n",
        "\n",
        "      pushLineBotMessage(sResponse, sReplyToken);\n",
        "    } else {\n",
        "      Logger.log('Invalid POST request: ' + JSON.stringify(e));\n",
        "    }\n",
        "  } catch (err) {\n",
        "    Logger.log('Error in doPost: ' + err.message);\n",
        "  }\n",
        "  return ContentService.createTextOutput(JSON.stringify({ \"status\": \"success\" })).setMimeType(ContentService.MimeType.JSON); // 返回成功狀態\n",
        "}\n",
        "\n",
        "~~~"
      ],
      "metadata": {
        "id": "TKFCo-E82M-3"
      }
    },
    {
      "cell_type": "markdown",
      "source": [
        "####chatGPT_api().gs檔案\n",
        "負責GPT的串接在主程式 doPost() 中 chatGPT_api(sUserMsgText.replace(Ask_Key_Word, “”)) 呼叫用到這個函式"
      ],
      "metadata": {
        "id": "nCG6ffn52kju"
      }
    },
    {
      "cell_type": "markdown",
      "source": [
        "~~~\n",
        "function chatGPT_api(sMsg) {\n",
        "  return UrlFetchApp.fetch('https://api.openai.com/v1/chat/completions', {\n",
        "    'method': 'post',\n",
        "    'headers': {\n",
        "      'Content-Type': 'application/json',\n",
        "      'Authorization': 'Bearer ' + ChatGPT_Access_Token,\n",
        "    },\n",
        "    'payload': JSON.stringify({\n",
        "      \"model\": \"gpt-4\", // 使用GPT-4模型\n",
        "      \"messages\": [{\"role\": \"user\", \"content\": sMsg}],\n",
        "      \"temperature\": 0.7,\n",
        "      \"max_tokens\": 150\n",
        "    }),\n",
        "  });\n",
        "}\n",
        "\n",
        "~~~"
      ],
      "metadata": {
        "id": "C3rhZIHb2tcK"
      }
    },
    {
      "cell_type": "markdown",
      "source": [
        "####pushLineBotMessage().gs\n",
        " 負責LINEBOT訊息回覆\n",
        "在主程式 doPost() 中 pushLineBotMessage(sResponse, sReplyToken) 呼叫用到這個函式"
      ],
      "metadata": {
        "id": "yUSWAybn21dE"
      }
    },
    {
      "cell_type": "markdown",
      "source": [
        "~~~\n",
        "function pushLineBotMessage(sMsg, sReplyToken) {\n",
        "  var linePayload = {\n",
        "    'replyToken': sReplyToken,\n",
        "    'messages': [\n",
        "      {\n",
        "        'type': 'text',\n",
        "        'text': sMsg\n",
        "      }\n",
        "    ]\n",
        "  };\n",
        "\n",
        "  var lineOptions = {\n",
        "    'method': 'post',\n",
        "    'headers': {\n",
        "      'Content-Type': 'application/json; charset=UTF-8',\n",
        "      'Authorization': 'Bearer ' + Line_Bot_Token\n",
        "    },\n",
        "    'payload': JSON.stringify(linePayload)\n",
        "  };\n",
        "\n",
        "  UrlFetchApp.fetch(Line_Bot_API, lineOptions);  // 把訊息送出\n",
        "}\n",
        "~~~"
      ],
      "metadata": {
        "id": "D75aEHh23M9v"
      }
    },
    {
      "cell_type": "markdown",
      "source": [
        "###亦可以合併以上3個檔案為一個"
      ],
      "metadata": {
        "id": "uUYB6mD7LBpK"
      }
    },
    {
      "cell_type": "markdown",
      "source": [
        "~~~\n",
        "// 設定LINE和ChatGPT的API金鑰和URL\n",
        "var Line_Bot_Token = \"將您的Channel access token 輸入在此\";\n",
        "var Line_Bot_API = \"https://api.line.me/v2/bot/message/reply\";\n",
        "var ChatGPT_Access_Token = \"將您的ChatGPT API KEY 輸入在此\";\n",
        "var Ask_Key_Word = \"請問:\";\n",
        "\n",
        "// 主函數，當收到LINE訊息時被觸發\n",
        "function doPost(e) {\n",
        "  try {\n",
        "    if (e && e.postData && e.postData.contents) {\n",
        "      var oPostData = JSON.parse(e.postData.contents);    // 取得Bot收到的資訊\n",
        "      var sReplyToken = oPostData.events[0].replyToken;\n",
        "      var sUserMsgText = oPostData.events[0].message.text;\n",
        "\n",
        "      // 以下狀況不回覆\n",
        "      if (!sUserMsgText) { return; }\n",
        "      if (sUserMsgText.indexOf(Ask_Key_Word) === -1) {\n",
        "        var sResponse = '如果想問問題的話，請開頭請用 ' + Ask_Key_Word + '再接著問題內容即可哦!';\n",
        "      } else {\n",
        "        // 呼叫ChatGPT API\n",
        "        var sGPTReceive = chatGPT_api(sUserMsgText.replace(Ask_Key_Word, \"\"));\n",
        "        var sResponse = JSON.parse(sGPTReceive.getContentText()).choices[0].message.content;\n",
        "      }\n",
        "\n",
        "      // 回覆訊息給LINE\n",
        "      pushLineBotMessage(sResponse, sReplyToken);\n",
        "    } else {\n",
        "      Logger.log('Invalid POST request: ' + JSON.stringify(e));\n",
        "    }\n",
        "  } catch (err) {\n",
        "    Logger.log('Error in doPost: ' + err.message);\n",
        "  }\n",
        "  return ContentService.createTextOutput(JSON.stringify({ \"status\": \"success\" })).setMimeType(ContentService.MimeType.JSON); // 返回成功狀態\n",
        "}\n",
        "\n",
        "// 呼叫ChatGPT API進行翻譯\n",
        "function chatGPT_api(sMsg) {\n",
        "  return UrlFetchApp.fetch('https://api.openai.com/v1/chat/completions', {\n",
        "    'method': 'post',\n",
        "    'headers': {\n",
        "      'Content-Type': 'application/json',\n",
        "      'Authorization': 'Bearer ' + ChatGPT_Access_Token,\n",
        "    },\n",
        "    'payload': JSON.stringify({\n",
        "      \"model\": \"gpt-4\", // 使用GPT-4模型\n",
        "      \"messages\": [{\"role\": \"user\", \"content\": sMsg}],\n",
        "      \"temperature\": 0.7,\n",
        "      \"max_tokens\": 150\n",
        "    }),\n",
        "  });\n",
        "}\n",
        "\n",
        "// 回覆訊息給LINE\n",
        "function pushLineBotMessage(sMsg, sReplyToken) {\n",
        "  var linePayload = {\n",
        "    'replyToken': sReplyToken,\n",
        "    'messages': [\n",
        "      {\n",
        "        'type': 'text',\n",
        "        'text': sMsg\n",
        "      }\n",
        "    ]\n",
        "  };\n",
        "\n",
        "  var lineOptions = {\n",
        "    'method': 'post',\n",
        "    'headers': {\n",
        "      'Content-Type': 'application/json; charset=UTF-8',\n",
        "      'Authorization': 'Bearer ' + Line_Bot_Token\n",
        "    },\n",
        "    'payload': JSON.stringify(linePayload)\n",
        "  };\n",
        "\n",
        "  UrlFetchApp.fetch(Line_Bot_API, lineOptions);  // 把訊息送出\n",
        "}\n",
        "~~~"
      ],
      "metadata": {
        "id": "cmnArQLoLIAP"
      }
    }
  ]
}